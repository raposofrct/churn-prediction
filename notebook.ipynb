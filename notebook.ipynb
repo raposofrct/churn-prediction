{
 "cells": [
  {
   "cell_type": "markdown",
   "id": "8eb2ac35",
   "metadata": {},
   "source": [
    "# 0.0 Imports"
   ]
  },
  {
   "cell_type": "code",
   "execution_count": 1607,
   "id": "25070826",
   "metadata": {
    "ExecuteTime": {
     "end_time": "2022-06-13T18:28:09.338723Z",
     "start_time": "2022-06-13T18:28:09.331466Z"
    }
   },
   "outputs": [],
   "source": [
    "import pandas as pd\n",
    "import numpy as np\n",
    "import seaborn as sns\n",
    "import matplotlib.pyplot as plt\n",
    "import inflection\n",
    "from warnings import filterwarnings\n",
    "from sklearn.model_selection import train_test_split,KFold\n",
    "from sklearn.preprocessing import LabelEncoder,MinMaxScaler,StandardScaler\n",
    "from sklearn.tree import DecisionTreeClassifier\n",
    "from sklearn.svm import SVC\n",
    "from sklearn.ensemble import RandomForestClassifier\n",
    "from sklearn.decomposition import PCA\n",
    "from sklearn.linear_model import LogisticRegression\n",
    "from sklearn import metrics as m\n",
    "from xgboost import XGBClassifier\n",
    "from imblearn import over_sampling,combine\n",
    "from category_encoders import OneHotEncoder,TargetEncoder\n",
    "from lightgbm.sklearn import LGBMClassifier\n",
    "from boruta import BorutaPy\n",
    "import pickle as pkl\n",
    "filterwarnings('ignore')"
   ]
  },
  {
   "cell_type": "markdown",
   "id": "cc0bb3cf",
   "metadata": {},
   "source": [
    "# 1.0 Collect Data"
   ]
  },
  {
   "cell_type": "code",
   "execution_count": 1608,
   "id": "657a8de1",
   "metadata": {
    "ExecuteTime": {
     "end_time": "2022-06-13T18:28:10.014981Z",
     "start_time": "2022-06-13T18:28:09.981120Z"
    }
   },
   "outputs": [
    {
     "data": {
      "text/html": [
       "<div>\n",
       "<style scoped>\n",
       "    .dataframe tbody tr th:only-of-type {\n",
       "        vertical-align: middle;\n",
       "    }\n",
       "\n",
       "    .dataframe tbody tr th {\n",
       "        vertical-align: top;\n",
       "    }\n",
       "\n",
       "    .dataframe thead th {\n",
       "        text-align: right;\n",
       "    }\n",
       "</style>\n",
       "<table border=\"1\" class=\"dataframe\">\n",
       "  <thead>\n",
       "    <tr style=\"text-align: right;\">\n",
       "      <th></th>\n",
       "      <th>RowNumber</th>\n",
       "      <th>CustomerId</th>\n",
       "      <th>Surname</th>\n",
       "      <th>CreditScore</th>\n",
       "      <th>Geography</th>\n",
       "      <th>Gender</th>\n",
       "      <th>Age</th>\n",
       "      <th>Tenure</th>\n",
       "      <th>Balance</th>\n",
       "      <th>NumOfProducts</th>\n",
       "      <th>HasCrCard</th>\n",
       "      <th>IsActiveMember</th>\n",
       "      <th>EstimatedSalary</th>\n",
       "      <th>Exited</th>\n",
       "    </tr>\n",
       "  </thead>\n",
       "  <tbody>\n",
       "    <tr>\n",
       "      <th>0</th>\n",
       "      <td>1</td>\n",
       "      <td>15634602</td>\n",
       "      <td>Hargrave</td>\n",
       "      <td>619</td>\n",
       "      <td>France</td>\n",
       "      <td>Female</td>\n",
       "      <td>42</td>\n",
       "      <td>2</td>\n",
       "      <td>0.00</td>\n",
       "      <td>1</td>\n",
       "      <td>1</td>\n",
       "      <td>1</td>\n",
       "      <td>101348.88</td>\n",
       "      <td>1</td>\n",
       "    </tr>\n",
       "    <tr>\n",
       "      <th>1</th>\n",
       "      <td>2</td>\n",
       "      <td>15647311</td>\n",
       "      <td>Hill</td>\n",
       "      <td>608</td>\n",
       "      <td>Spain</td>\n",
       "      <td>Female</td>\n",
       "      <td>41</td>\n",
       "      <td>1</td>\n",
       "      <td>83807.86</td>\n",
       "      <td>1</td>\n",
       "      <td>0</td>\n",
       "      <td>1</td>\n",
       "      <td>112542.58</td>\n",
       "      <td>0</td>\n",
       "    </tr>\n",
       "    <tr>\n",
       "      <th>2</th>\n",
       "      <td>3</td>\n",
       "      <td>15619304</td>\n",
       "      <td>Onio</td>\n",
       "      <td>502</td>\n",
       "      <td>France</td>\n",
       "      <td>Female</td>\n",
       "      <td>42</td>\n",
       "      <td>8</td>\n",
       "      <td>159660.80</td>\n",
       "      <td>3</td>\n",
       "      <td>1</td>\n",
       "      <td>0</td>\n",
       "      <td>113931.57</td>\n",
       "      <td>1</td>\n",
       "    </tr>\n",
       "    <tr>\n",
       "      <th>3</th>\n",
       "      <td>4</td>\n",
       "      <td>15701354</td>\n",
       "      <td>Boni</td>\n",
       "      <td>699</td>\n",
       "      <td>France</td>\n",
       "      <td>Female</td>\n",
       "      <td>39</td>\n",
       "      <td>1</td>\n",
       "      <td>0.00</td>\n",
       "      <td>2</td>\n",
       "      <td>0</td>\n",
       "      <td>0</td>\n",
       "      <td>93826.63</td>\n",
       "      <td>0</td>\n",
       "    </tr>\n",
       "    <tr>\n",
       "      <th>4</th>\n",
       "      <td>5</td>\n",
       "      <td>15737888</td>\n",
       "      <td>Mitchell</td>\n",
       "      <td>850</td>\n",
       "      <td>Spain</td>\n",
       "      <td>Female</td>\n",
       "      <td>43</td>\n",
       "      <td>2</td>\n",
       "      <td>125510.82</td>\n",
       "      <td>1</td>\n",
       "      <td>1</td>\n",
       "      <td>1</td>\n",
       "      <td>79084.10</td>\n",
       "      <td>0</td>\n",
       "    </tr>\n",
       "  </tbody>\n",
       "</table>\n",
       "</div>"
      ],
      "text/plain": [
       "   RowNumber  CustomerId   Surname  CreditScore Geography  Gender  Age  \\\n",
       "0          1    15634602  Hargrave          619    France  Female   42   \n",
       "1          2    15647311      Hill          608     Spain  Female   41   \n",
       "2          3    15619304      Onio          502    France  Female   42   \n",
       "3          4    15701354      Boni          699    France  Female   39   \n",
       "4          5    15737888  Mitchell          850     Spain  Female   43   \n",
       "\n",
       "   Tenure    Balance  NumOfProducts  HasCrCard  IsActiveMember  \\\n",
       "0       2       0.00              1          1               1   \n",
       "1       1   83807.86              1          0               1   \n",
       "2       8  159660.80              3          1               0   \n",
       "3       1       0.00              2          0               0   \n",
       "4       2  125510.82              1          1               1   \n",
       "\n",
       "   EstimatedSalary  Exited  \n",
       "0        101348.88       1  \n",
       "1        112542.58       0  \n",
       "2        113931.57       1  \n",
       "3         93826.63       0  \n",
       "4         79084.10       0  "
      ]
     },
     "execution_count": 1608,
     "metadata": {},
     "output_type": "execute_result"
    }
   ],
   "source": [
    "dados = pd.read_csv('data/churn.csv')\n",
    "dados.head()"
   ]
  },
  {
   "cell_type": "code",
   "execution_count": 1609,
   "id": "111e2551",
   "metadata": {
    "ExecuteTime": {
     "end_time": "2022-06-13T18:28:13.063140Z",
     "start_time": "2022-06-13T18:28:13.058983Z"
    }
   },
   "outputs": [
    {
     "name": "stdout",
     "output_type": "stream",
     "text": [
      "Number of Rows: 10000\n",
      "Number of Columns: 14\n"
     ]
    }
   ],
   "source": [
    "print(f'Number of Rows: {dados.shape[0]}\\nNumber of Columns: {dados.shape[1]}')"
   ]
  },
  {
   "cell_type": "code",
   "execution_count": 1610,
   "id": "0340a8af",
   "metadata": {
    "ExecuteTime": {
     "end_time": "2022-06-13T18:28:13.187519Z",
     "start_time": "2022-06-13T18:28:13.179410Z"
    }
   },
   "outputs": [
    {
     "data": {
      "text/plain": [
       "10000"
      ]
     },
     "execution_count": 1610,
     "metadata": {},
     "output_type": "execute_result"
    }
   ],
   "source": [
    "# Check granuralidade\n",
    "dados['CustomerId'].unique().shape[0]"
   ]
  },
  {
   "cell_type": "markdown",
   "id": "eca9a59f",
   "metadata": {},
   "source": [
    "# 2.0 Data Cleaning"
   ]
  },
  {
   "cell_type": "code",
   "execution_count": 909,
   "id": "bbb771b2",
   "metadata": {
    "ExecuteTime": {
     "end_time": "2022-06-13T03:22:07.116129Z",
     "start_time": "2022-06-13T03:22:07.109055Z"
    }
   },
   "outputs": [],
   "source": [
    "dados2 = dados.copy()"
   ]
  },
  {
   "cell_type": "markdown",
   "id": "663e0f2e",
   "metadata": {},
   "source": [
    "## 2.1 Drop Irrelevant Features"
   ]
  },
  {
   "cell_type": "code",
   "execution_count": 910,
   "id": "6f409211",
   "metadata": {
    "ExecuteTime": {
     "end_time": "2022-06-13T03:22:07.366950Z",
     "start_time": "2022-06-13T03:22:07.358936Z"
    }
   },
   "outputs": [],
   "source": [
    "dados2.drop('RowNumber',1,inplace=True)"
   ]
  },
  {
   "cell_type": "markdown",
   "id": "476aaf1f",
   "metadata": {},
   "source": [
    "## 2.2 Rename Values and Columns"
   ]
  },
  {
   "cell_type": "code",
   "execution_count": 911,
   "id": "33e5b4aa",
   "metadata": {
    "ExecuteTime": {
     "end_time": "2022-06-13T03:22:08.013873Z",
     "start_time": "2022-06-13T03:22:07.867389Z"
    }
   },
   "outputs": [],
   "source": [
    "# CamelCase to snake_case\n",
    "\n",
    "# Columns\n",
    "for column in dados2.columns:\n",
    "    dados2.rename(columns={column:inflection.underscore(column)},inplace=True)\n",
    "\n",
    "# Values\n",
    "for column in dados2.select_dtypes('object').columns:\n",
    "    dados2[column] = dados2[column].apply(lambda x: inflection.underscore(x))"
   ]
  },
  {
   "cell_type": "markdown",
   "id": "ecaa6de5",
   "metadata": {},
   "source": [
    "## 2.3 Missing Data"
   ]
  },
  {
   "cell_type": "code",
   "execution_count": 912,
   "id": "00e5fac8",
   "metadata": {
    "ExecuteTime": {
     "end_time": "2022-06-13T03:22:08.563383Z",
     "start_time": "2022-06-13T03:22:08.542352Z"
    }
   },
   "outputs": [
    {
     "data": {
      "text/plain": [
       "RowNumber          0\n",
       "CustomerId         0\n",
       "Surname            0\n",
       "CreditScore        0\n",
       "Geography          0\n",
       "Gender             0\n",
       "Age                0\n",
       "Tenure             0\n",
       "Balance            0\n",
       "NumOfProducts      0\n",
       "HasCrCard          0\n",
       "IsActiveMember     0\n",
       "EstimatedSalary    0\n",
       "Exited             0\n",
       "dtype: int64"
      ]
     },
     "execution_count": 912,
     "metadata": {},
     "output_type": "execute_result"
    }
   ],
   "source": [
    "dados.isna().sum()"
   ]
  },
  {
   "cell_type": "markdown",
   "id": "c3610903",
   "metadata": {},
   "source": [
    "## 2.4 Data Dtypes"
   ]
  },
  {
   "cell_type": "code",
   "execution_count": 913,
   "id": "da6c8cfb",
   "metadata": {
    "ExecuteTime": {
     "end_time": "2022-06-13T03:22:09.133644Z",
     "start_time": "2022-06-13T03:22:09.124836Z"
    },
    "scrolled": true
   },
   "outputs": [
    {
     "data": {
      "text/plain": [
       "RowNumber            int64\n",
       "CustomerId           int64\n",
       "Surname             object\n",
       "CreditScore          int64\n",
       "Geography           object\n",
       "Gender              object\n",
       "Age                  int64\n",
       "Tenure               int64\n",
       "Balance            float64\n",
       "NumOfProducts        int64\n",
       "HasCrCard            int64\n",
       "IsActiveMember       int64\n",
       "EstimatedSalary    float64\n",
       "Exited               int64\n",
       "dtype: object"
      ]
     },
     "execution_count": 913,
     "metadata": {},
     "output_type": "execute_result"
    }
   ],
   "source": [
    "dados.dtypes"
   ]
  },
  {
   "cell_type": "markdown",
   "id": "4ad87548",
   "metadata": {},
   "source": [
    "# 3.0 Feature Engineering"
   ]
  },
  {
   "cell_type": "code",
   "execution_count": 914,
   "id": "50849f63",
   "metadata": {
    "ExecuteTime": {
     "end_time": "2022-06-13T03:22:09.495549Z",
     "start_time": "2022-06-13T03:22:09.487274Z"
    }
   },
   "outputs": [],
   "source": [
    "dados3 = dados2.copy()"
   ]
  },
  {
   "cell_type": "code",
   "execution_count": 917,
   "id": "f07918bd",
   "metadata": {
    "ExecuteTime": {
     "end_time": "2022-06-13T03:23:19.691680Z",
     "start_time": "2022-06-13T03:23:19.676884Z"
    }
   },
   "outputs": [],
   "source": [
    "# Surname Size\n",
    "dados3['surname_size'] = dados3['surname'].apply(lambda x: len(x))"
   ]
  },
  {
   "cell_type": "code",
   "execution_count": 921,
   "id": "fad9cd9f",
   "metadata": {
    "ExecuteTime": {
     "end_time": "2022-06-13T03:25:26.969198Z",
     "start_time": "2022-06-13T03:25:26.945181Z"
    }
   },
   "outputs": [
    {
     "data": {
      "text/html": [
       "<div>\n",
       "<style scoped>\n",
       "    .dataframe tbody tr th:only-of-type {\n",
       "        vertical-align: middle;\n",
       "    }\n",
       "\n",
       "    .dataframe tbody tr th {\n",
       "        vertical-align: top;\n",
       "    }\n",
       "\n",
       "    .dataframe thead th {\n",
       "        text-align: right;\n",
       "    }\n",
       "</style>\n",
       "<table border=\"1\" class=\"dataframe\">\n",
       "  <thead>\n",
       "    <tr style=\"text-align: right;\">\n",
       "      <th></th>\n",
       "      <th>customer_id</th>\n",
       "      <th>surname</th>\n",
       "      <th>credit_score</th>\n",
       "      <th>geography</th>\n",
       "      <th>gender</th>\n",
       "      <th>age</th>\n",
       "      <th>tenure</th>\n",
       "      <th>balance</th>\n",
       "      <th>num_of_products</th>\n",
       "      <th>has_cr_card</th>\n",
       "      <th>is_active_member</th>\n",
       "      <th>estimated_salary</th>\n",
       "      <th>exited</th>\n",
       "      <th>surname_size</th>\n",
       "    </tr>\n",
       "  </thead>\n",
       "  <tbody>\n",
       "    <tr>\n",
       "      <th>0</th>\n",
       "      <td>15634602</td>\n",
       "      <td>hargrave</td>\n",
       "      <td>619</td>\n",
       "      <td>france</td>\n",
       "      <td>female</td>\n",
       "      <td>42</td>\n",
       "      <td>2</td>\n",
       "      <td>0.00</td>\n",
       "      <td>1</td>\n",
       "      <td>1</td>\n",
       "      <td>1</td>\n",
       "      <td>101348.88</td>\n",
       "      <td>1</td>\n",
       "      <td>8</td>\n",
       "    </tr>\n",
       "    <tr>\n",
       "      <th>1</th>\n",
       "      <td>15647311</td>\n",
       "      <td>hill</td>\n",
       "      <td>608</td>\n",
       "      <td>spain</td>\n",
       "      <td>female</td>\n",
       "      <td>41</td>\n",
       "      <td>1</td>\n",
       "      <td>83807.86</td>\n",
       "      <td>1</td>\n",
       "      <td>0</td>\n",
       "      <td>1</td>\n",
       "      <td>112542.58</td>\n",
       "      <td>0</td>\n",
       "      <td>4</td>\n",
       "    </tr>\n",
       "    <tr>\n",
       "      <th>2</th>\n",
       "      <td>15619304</td>\n",
       "      <td>onio</td>\n",
       "      <td>502</td>\n",
       "      <td>france</td>\n",
       "      <td>female</td>\n",
       "      <td>42</td>\n",
       "      <td>8</td>\n",
       "      <td>159660.80</td>\n",
       "      <td>3</td>\n",
       "      <td>1</td>\n",
       "      <td>0</td>\n",
       "      <td>113931.57</td>\n",
       "      <td>1</td>\n",
       "      <td>4</td>\n",
       "    </tr>\n",
       "    <tr>\n",
       "      <th>3</th>\n",
       "      <td>15701354</td>\n",
       "      <td>boni</td>\n",
       "      <td>699</td>\n",
       "      <td>france</td>\n",
       "      <td>female</td>\n",
       "      <td>39</td>\n",
       "      <td>1</td>\n",
       "      <td>0.00</td>\n",
       "      <td>2</td>\n",
       "      <td>0</td>\n",
       "      <td>0</td>\n",
       "      <td>93826.63</td>\n",
       "      <td>0</td>\n",
       "      <td>4</td>\n",
       "    </tr>\n",
       "    <tr>\n",
       "      <th>4</th>\n",
       "      <td>15737888</td>\n",
       "      <td>mitchell</td>\n",
       "      <td>850</td>\n",
       "      <td>spain</td>\n",
       "      <td>female</td>\n",
       "      <td>43</td>\n",
       "      <td>2</td>\n",
       "      <td>125510.82</td>\n",
       "      <td>1</td>\n",
       "      <td>1</td>\n",
       "      <td>1</td>\n",
       "      <td>79084.10</td>\n",
       "      <td>0</td>\n",
       "      <td>8</td>\n",
       "    </tr>\n",
       "    <tr>\n",
       "      <th>...</th>\n",
       "      <td>...</td>\n",
       "      <td>...</td>\n",
       "      <td>...</td>\n",
       "      <td>...</td>\n",
       "      <td>...</td>\n",
       "      <td>...</td>\n",
       "      <td>...</td>\n",
       "      <td>...</td>\n",
       "      <td>...</td>\n",
       "      <td>...</td>\n",
       "      <td>...</td>\n",
       "      <td>...</td>\n",
       "      <td>...</td>\n",
       "      <td>...</td>\n",
       "    </tr>\n",
       "    <tr>\n",
       "      <th>9995</th>\n",
       "      <td>15606229</td>\n",
       "      <td>obijiaku</td>\n",
       "      <td>771</td>\n",
       "      <td>france</td>\n",
       "      <td>male</td>\n",
       "      <td>39</td>\n",
       "      <td>5</td>\n",
       "      <td>0.00</td>\n",
       "      <td>2</td>\n",
       "      <td>1</td>\n",
       "      <td>0</td>\n",
       "      <td>96270.64</td>\n",
       "      <td>0</td>\n",
       "      <td>8</td>\n",
       "    </tr>\n",
       "    <tr>\n",
       "      <th>9996</th>\n",
       "      <td>15569892</td>\n",
       "      <td>johnstone</td>\n",
       "      <td>516</td>\n",
       "      <td>france</td>\n",
       "      <td>male</td>\n",
       "      <td>35</td>\n",
       "      <td>10</td>\n",
       "      <td>57369.61</td>\n",
       "      <td>1</td>\n",
       "      <td>1</td>\n",
       "      <td>1</td>\n",
       "      <td>101699.77</td>\n",
       "      <td>0</td>\n",
       "      <td>9</td>\n",
       "    </tr>\n",
       "    <tr>\n",
       "      <th>9997</th>\n",
       "      <td>15584532</td>\n",
       "      <td>liu</td>\n",
       "      <td>709</td>\n",
       "      <td>france</td>\n",
       "      <td>female</td>\n",
       "      <td>36</td>\n",
       "      <td>7</td>\n",
       "      <td>0.00</td>\n",
       "      <td>1</td>\n",
       "      <td>0</td>\n",
       "      <td>1</td>\n",
       "      <td>42085.58</td>\n",
       "      <td>1</td>\n",
       "      <td>3</td>\n",
       "    </tr>\n",
       "    <tr>\n",
       "      <th>9998</th>\n",
       "      <td>15682355</td>\n",
       "      <td>sabbatini</td>\n",
       "      <td>772</td>\n",
       "      <td>germany</td>\n",
       "      <td>male</td>\n",
       "      <td>42</td>\n",
       "      <td>3</td>\n",
       "      <td>75075.31</td>\n",
       "      <td>2</td>\n",
       "      <td>1</td>\n",
       "      <td>0</td>\n",
       "      <td>92888.52</td>\n",
       "      <td>1</td>\n",
       "      <td>9</td>\n",
       "    </tr>\n",
       "    <tr>\n",
       "      <th>9999</th>\n",
       "      <td>15628319</td>\n",
       "      <td>walker</td>\n",
       "      <td>792</td>\n",
       "      <td>france</td>\n",
       "      <td>female</td>\n",
       "      <td>28</td>\n",
       "      <td>4</td>\n",
       "      <td>130142.79</td>\n",
       "      <td>1</td>\n",
       "      <td>1</td>\n",
       "      <td>0</td>\n",
       "      <td>38190.78</td>\n",
       "      <td>0</td>\n",
       "      <td>6</td>\n",
       "    </tr>\n",
       "  </tbody>\n",
       "</table>\n",
       "<p>10000 rows × 14 columns</p>\n",
       "</div>"
      ],
      "text/plain": [
       "      customer_id    surname  credit_score geography  gender  age  tenure  \\\n",
       "0        15634602   hargrave           619    france  female   42       2   \n",
       "1        15647311       hill           608     spain  female   41       1   \n",
       "2        15619304       onio           502    france  female   42       8   \n",
       "3        15701354       boni           699    france  female   39       1   \n",
       "4        15737888   mitchell           850     spain  female   43       2   \n",
       "...           ...        ...           ...       ...     ...  ...     ...   \n",
       "9995     15606229   obijiaku           771    france    male   39       5   \n",
       "9996     15569892  johnstone           516    france    male   35      10   \n",
       "9997     15584532        liu           709    france  female   36       7   \n",
       "9998     15682355  sabbatini           772   germany    male   42       3   \n",
       "9999     15628319     walker           792    france  female   28       4   \n",
       "\n",
       "        balance  num_of_products  has_cr_card  is_active_member  \\\n",
       "0          0.00                1            1                 1   \n",
       "1      83807.86                1            0                 1   \n",
       "2     159660.80                3            1                 0   \n",
       "3          0.00                2            0                 0   \n",
       "4     125510.82                1            1                 1   \n",
       "...         ...              ...          ...               ...   \n",
       "9995       0.00                2            1                 0   \n",
       "9996   57369.61                1            1                 1   \n",
       "9997       0.00                1            0                 1   \n",
       "9998   75075.31                2            1                 0   \n",
       "9999  130142.79                1            1                 0   \n",
       "\n",
       "      estimated_salary  exited  surname_size  \n",
       "0            101348.88       1             8  \n",
       "1            112542.58       0             4  \n",
       "2            113931.57       1             4  \n",
       "3             93826.63       0             4  \n",
       "4             79084.10       0             8  \n",
       "...                ...     ...           ...  \n",
       "9995          96270.64       0             8  \n",
       "9996         101699.77       0             9  \n",
       "9997          42085.58       1             3  \n",
       "9998          92888.52       1             9  \n",
       "9999          38190.78       0             6  \n",
       "\n",
       "[10000 rows x 14 columns]"
      ]
     },
     "execution_count": 921,
     "metadata": {},
     "output_type": "execute_result"
    }
   ],
   "source": [
    "dados3"
   ]
  },
  {
   "cell_type": "markdown",
   "id": "b0c71d74",
   "metadata": {},
   "source": [
    "# 4.0 Exploratory Data Analysis"
   ]
  },
  {
   "cell_type": "code",
   "execution_count": 922,
   "id": "659e808f",
   "metadata": {
    "ExecuteTime": {
     "end_time": "2022-06-13T03:25:28.037978Z",
     "start_time": "2022-06-13T03:25:28.031933Z"
    }
   },
   "outputs": [],
   "source": [
    "dados4 = dados3.copy()"
   ]
  },
  {
   "cell_type": "markdown",
   "id": "7d7b5e0c",
   "metadata": {},
   "source": [
    "## 4.1 Descriptive Analysis"
   ]
  },
  {
   "cell_type": "code",
   "execution_count": 924,
   "id": "138dcb98",
   "metadata": {
    "ExecuteTime": {
     "end_time": "2022-06-13T03:25:43.231779Z",
     "start_time": "2022-06-13T03:25:43.170047Z"
    }
   },
   "outputs": [
    {
     "data": {
      "text/html": [
       "<div>\n",
       "<style scoped>\n",
       "    .dataframe tbody tr th:only-of-type {\n",
       "        vertical-align: middle;\n",
       "    }\n",
       "\n",
       "    .dataframe tbody tr th {\n",
       "        vertical-align: top;\n",
       "    }\n",
       "\n",
       "    .dataframe thead th {\n",
       "        text-align: right;\n",
       "    }\n",
       "</style>\n",
       "<table border=\"1\" class=\"dataframe\">\n",
       "  <thead>\n",
       "    <tr style=\"text-align: right;\">\n",
       "      <th></th>\n",
       "      <th>mean</th>\n",
       "      <th>std</th>\n",
       "      <th>min</th>\n",
       "      <th>25%</th>\n",
       "      <th>50%</th>\n",
       "      <th>75%</th>\n",
       "      <th>max</th>\n",
       "      <th>kurtosis</th>\n",
       "      <th>skewness</th>\n",
       "      <th>range</th>\n",
       "    </tr>\n",
       "  </thead>\n",
       "  <tbody>\n",
       "    <tr>\n",
       "      <th>credit_score</th>\n",
       "      <td>650.528800</td>\n",
       "      <td>96.653299</td>\n",
       "      <td>350.00</td>\n",
       "      <td>584.00</td>\n",
       "      <td>652.000</td>\n",
       "      <td>718.0000</td>\n",
       "      <td>850.00</td>\n",
       "      <td>-0.425726</td>\n",
       "      <td>-0.071607</td>\n",
       "      <td>500.00</td>\n",
       "    </tr>\n",
       "    <tr>\n",
       "      <th>age</th>\n",
       "      <td>38.921800</td>\n",
       "      <td>10.487806</td>\n",
       "      <td>18.00</td>\n",
       "      <td>32.00</td>\n",
       "      <td>37.000</td>\n",
       "      <td>44.0000</td>\n",
       "      <td>92.00</td>\n",
       "      <td>1.395347</td>\n",
       "      <td>1.011320</td>\n",
       "      <td>74.00</td>\n",
       "    </tr>\n",
       "    <tr>\n",
       "      <th>tenure</th>\n",
       "      <td>5.012800</td>\n",
       "      <td>2.892174</td>\n",
       "      <td>0.00</td>\n",
       "      <td>3.00</td>\n",
       "      <td>5.000</td>\n",
       "      <td>7.0000</td>\n",
       "      <td>10.00</td>\n",
       "      <td>-1.165225</td>\n",
       "      <td>0.010991</td>\n",
       "      <td>10.00</td>\n",
       "    </tr>\n",
       "    <tr>\n",
       "      <th>balance</th>\n",
       "      <td>76485.889288</td>\n",
       "      <td>62397.405202</td>\n",
       "      <td>0.00</td>\n",
       "      <td>0.00</td>\n",
       "      <td>97198.540</td>\n",
       "      <td>127644.2400</td>\n",
       "      <td>250898.09</td>\n",
       "      <td>-1.489412</td>\n",
       "      <td>-0.141109</td>\n",
       "      <td>250898.09</td>\n",
       "    </tr>\n",
       "    <tr>\n",
       "      <th>num_of_products</th>\n",
       "      <td>1.530200</td>\n",
       "      <td>0.581654</td>\n",
       "      <td>1.00</td>\n",
       "      <td>1.00</td>\n",
       "      <td>1.000</td>\n",
       "      <td>2.0000</td>\n",
       "      <td>4.00</td>\n",
       "      <td>0.582981</td>\n",
       "      <td>0.745568</td>\n",
       "      <td>3.00</td>\n",
       "    </tr>\n",
       "    <tr>\n",
       "      <th>has_cr_card</th>\n",
       "      <td>0.705500</td>\n",
       "      <td>0.455840</td>\n",
       "      <td>0.00</td>\n",
       "      <td>0.00</td>\n",
       "      <td>1.000</td>\n",
       "      <td>1.0000</td>\n",
       "      <td>1.00</td>\n",
       "      <td>-1.186973</td>\n",
       "      <td>-0.901812</td>\n",
       "      <td>1.00</td>\n",
       "    </tr>\n",
       "    <tr>\n",
       "      <th>is_active_member</th>\n",
       "      <td>0.515100</td>\n",
       "      <td>0.499797</td>\n",
       "      <td>0.00</td>\n",
       "      <td>0.00</td>\n",
       "      <td>1.000</td>\n",
       "      <td>1.0000</td>\n",
       "      <td>1.00</td>\n",
       "      <td>-1.996747</td>\n",
       "      <td>-0.060437</td>\n",
       "      <td>1.00</td>\n",
       "    </tr>\n",
       "    <tr>\n",
       "      <th>estimated_salary</th>\n",
       "      <td>100090.239881</td>\n",
       "      <td>57510.492818</td>\n",
       "      <td>11.58</td>\n",
       "      <td>51002.11</td>\n",
       "      <td>100193.915</td>\n",
       "      <td>149388.2475</td>\n",
       "      <td>199992.48</td>\n",
       "      <td>-1.181518</td>\n",
       "      <td>0.002085</td>\n",
       "      <td>199980.90</td>\n",
       "    </tr>\n",
       "    <tr>\n",
       "      <th>exited</th>\n",
       "      <td>0.203700</td>\n",
       "      <td>0.402769</td>\n",
       "      <td>0.00</td>\n",
       "      <td>0.00</td>\n",
       "      <td>0.000</td>\n",
       "      <td>0.0000</td>\n",
       "      <td>1.00</td>\n",
       "      <td>0.165671</td>\n",
       "      <td>1.471611</td>\n",
       "      <td>1.00</td>\n",
       "    </tr>\n",
       "    <tr>\n",
       "      <th>surname_size</th>\n",
       "      <td>6.455300</td>\n",
       "      <td>2.289001</td>\n",
       "      <td>2.00</td>\n",
       "      <td>5.00</td>\n",
       "      <td>6.000</td>\n",
       "      <td>8.0000</td>\n",
       "      <td>23.00</td>\n",
       "      <td>1.361349</td>\n",
       "      <td>0.609321</td>\n",
       "      <td>21.00</td>\n",
       "    </tr>\n",
       "  </tbody>\n",
       "</table>\n",
       "</div>"
      ],
      "text/plain": [
       "                           mean           std     min       25%         50%  \\\n",
       "credit_score         650.528800     96.653299  350.00    584.00     652.000   \n",
       "age                   38.921800     10.487806   18.00     32.00      37.000   \n",
       "tenure                 5.012800      2.892174    0.00      3.00       5.000   \n",
       "balance            76485.889288  62397.405202    0.00      0.00   97198.540   \n",
       "num_of_products        1.530200      0.581654    1.00      1.00       1.000   \n",
       "has_cr_card            0.705500      0.455840    0.00      0.00       1.000   \n",
       "is_active_member       0.515100      0.499797    0.00      0.00       1.000   \n",
       "estimated_salary  100090.239881  57510.492818   11.58  51002.11  100193.915   \n",
       "exited                 0.203700      0.402769    0.00      0.00       0.000   \n",
       "surname_size           6.455300      2.289001    2.00      5.00       6.000   \n",
       "\n",
       "                          75%        max  kurtosis  skewness      range  \n",
       "credit_score         718.0000     850.00 -0.425726 -0.071607     500.00  \n",
       "age                   44.0000      92.00  1.395347  1.011320      74.00  \n",
       "tenure                 7.0000      10.00 -1.165225  0.010991      10.00  \n",
       "balance           127644.2400  250898.09 -1.489412 -0.141109  250898.09  \n",
       "num_of_products        2.0000       4.00  0.582981  0.745568       3.00  \n",
       "has_cr_card            1.0000       1.00 -1.186973 -0.901812       1.00  \n",
       "is_active_member       1.0000       1.00 -1.996747 -0.060437       1.00  \n",
       "estimated_salary  149388.2475  199992.48 -1.181518  0.002085  199980.90  \n",
       "exited                 0.0000       1.00  0.165671  1.471611       1.00  \n",
       "surname_size           8.0000      23.00  1.361349  0.609321      21.00  "
      ]
     },
     "execution_count": 924,
     "metadata": {},
     "output_type": "execute_result"
    }
   ],
   "source": [
    "num_kurt = dados4.kurtosis() # Add kurtosis\n",
    "num_skewness = dados4.skew() # Add skewness\n",
    "num_range = dados4.select_dtypes(exclude='object').apply(lambda x: x.max()-x.min()) # Add range\n",
    "pd.concat([dados4.describe().T,num_kurt,num_skewness,num_range],axis=1).rename(columns={0:'kurtosis',1:'skewness',2:'range'}).drop('count',1)[1:]"
   ]
  },
  {
   "cell_type": "code",
   "execution_count": 925,
   "id": "60cd7453",
   "metadata": {
    "ExecuteTime": {
     "end_time": "2022-06-13T03:25:43.877627Z",
     "start_time": "2022-06-13T03:25:43.850782Z"
    }
   },
   "outputs": [
    {
     "data": {
      "text/html": [
       "<div>\n",
       "<style scoped>\n",
       "    .dataframe tbody tr th:only-of-type {\n",
       "        vertical-align: middle;\n",
       "    }\n",
       "\n",
       "    .dataframe tbody tr th {\n",
       "        vertical-align: top;\n",
       "    }\n",
       "\n",
       "    .dataframe thead th {\n",
       "        text-align: right;\n",
       "    }\n",
       "</style>\n",
       "<table border=\"1\" class=\"dataframe\">\n",
       "  <thead>\n",
       "    <tr style=\"text-align: right;\">\n",
       "      <th></th>\n",
       "      <th>count</th>\n",
       "      <th>unique</th>\n",
       "      <th>top</th>\n",
       "      <th>freq</th>\n",
       "    </tr>\n",
       "  </thead>\n",
       "  <tbody>\n",
       "    <tr>\n",
       "      <th>surname</th>\n",
       "      <td>10000</td>\n",
       "      <td>2932</td>\n",
       "      <td>smith</td>\n",
       "      <td>32</td>\n",
       "    </tr>\n",
       "    <tr>\n",
       "      <th>geography</th>\n",
       "      <td>10000</td>\n",
       "      <td>3</td>\n",
       "      <td>france</td>\n",
       "      <td>5014</td>\n",
       "    </tr>\n",
       "    <tr>\n",
       "      <th>gender</th>\n",
       "      <td>10000</td>\n",
       "      <td>2</td>\n",
       "      <td>male</td>\n",
       "      <td>5457</td>\n",
       "    </tr>\n",
       "  </tbody>\n",
       "</table>\n",
       "</div>"
      ],
      "text/plain": [
       "           count unique     top  freq\n",
       "surname    10000   2932   smith    32\n",
       "geography  10000      3  france  5014\n",
       "gender     10000      2    male  5457"
      ]
     },
     "execution_count": 925,
     "metadata": {},
     "output_type": "execute_result"
    }
   ],
   "source": [
    "dados4.select_dtypes('object').describe().T"
   ]
  },
  {
   "cell_type": "markdown",
   "id": "61274f6c",
   "metadata": {},
   "source": [
    "## 4.2 Univariate Analysis"
   ]
  },
  {
   "cell_type": "markdown",
   "id": "f90f18c1",
   "metadata": {},
   "source": [
    "### 4.2.1 Target Variable"
   ]
  },
  {
   "cell_type": "code",
   "execution_count": 926,
   "id": "03982398",
   "metadata": {
    "ExecuteTime": {
     "end_time": "2022-06-13T03:25:45.665386Z",
     "start_time": "2022-06-13T03:25:45.568916Z"
    },
    "hide_input": true
   },
   "outputs": [
    {
     "data": {
      "image/png": "[encoded data removed]",
      "text/plain": [
       "<Figure size 432x288 with 1 Axes>"
      ]
     },
     "metadata": {
      "needs_background": "light"
     },
     "output_type": "display_data"
    }
   ],
   "source": [
    "sns.countplot(dados4['exited']);"
   ]
  },
  {
   "cell_type": "code",
   "execution_count": 927,
   "id": "4783f4ad",
   "metadata": {
    "ExecuteTime": {
     "end_time": "2022-06-13T03:25:46.135782Z",
     "start_time": "2022-06-13T03:25:46.121497Z"
    },
    "hide_input": true
   },
   "outputs": [
    {
     "data": {
      "text/plain": [
       "0    79.63\n",
       "1    20.37\n",
       "Name: exited, dtype: float64"
      ]
     },
     "execution_count": 927,
     "metadata": {},
     "output_type": "execute_result"
    }
   ],
   "source": [
    "(dados4['exited'].value_counts(normalize=True)*100).round(2)"
   ]
  },
  {
   "cell_type": "markdown",
   "id": "be97a9a3",
   "metadata": {},
   "source": [
    "### 4.2.2 Histograms"
   ]
  },
  {
   "cell_type": "code",
   "execution_count": 929,
   "id": "058e5173",
   "metadata": {
    "ExecuteTime": {
     "end_time": "2022-06-13T03:26:28.547812Z",
     "start_time": "2022-06-13T03:26:27.985097Z"
    },
    "hide_input": true
   },
   "outputs": [
    {
     "data": {
      "image/png": "[encoded data removed]",
      "text/plain": [
       "<Figure size 1152x864 with 5 Axes>"
      ]
     },
     "metadata": {
      "needs_background": "light"
     },
     "output_type": "display_data"
    }
   ],
   "source": [
    "features_aux = ['credit_score','age','balance','estimated_salary','surname_size']\n",
    "plt.figure(figsize=(16,12))\n",
    "for n, feature in enumerate(features_aux):\n",
    "    plt.subplot(3,2,n+1)\n",
    "    ax = sns.histplot(dados4[feature])\n",
    "    ax.set_title(feature,fontsize=12)\n",
    "    ax.set_xlabel('')"
   ]
  },
  {
   "cell_type": "markdown",
   "id": "96fbe612",
   "metadata": {},
   "source": [
    "### 4.2.3 Countplot"
   ]
  },
  {
   "cell_type": "code",
   "execution_count": 930,
   "id": "fe7f8f9a",
   "metadata": {
    "ExecuteTime": {
     "end_time": "2022-06-13T03:26:37.485944Z",
     "start_time": "2022-06-13T03:26:37.034547Z"
    },
    "hide_input": true
   },
   "outputs": [
    {
     "data": {
      "image/png": "[encoded data removed]",
      "text/plain": [
       "<Figure size 1152x720 with 6 Axes>"
      ]
     },
     "metadata": {
      "needs_background": "light"
     },
     "output_type": "display_data"
    }
   ],
   "source": [
    "features_aux = ['tenure','num_of_products','has_cr_card','is_active_member','geography','gender']\n",
    "plt.figure(figsize=(16,10))\n",
    "plt.subplots_adjust(hspace=0.3)\n",
    "for n, feature in enumerate(features_aux):\n",
    "    plt.subplot(3,2,n+1)\n",
    "    ax = sns.histplot(dados4[feature])\n",
    "    ax.set_title(feature,fontsize=12)\n",
    "    ax.set_xlabel('')"
   ]
  },
  {
   "cell_type": "markdown",
   "id": "3c3a60d7",
   "metadata": {},
   "source": [
    "## 4.3 Bivariate Analysis"
   ]
  },
  {
   "cell_type": "markdown",
   "id": "094abf28",
   "metadata": {},
   "source": [
    "### H1: Se é um membro ativo tem menor chance de churn (Verificar data leakeage)\n",
    "\n",
    "This hypothesis is **TRUE**\n",
    "Não vemos data leakage, o que vemos é que os clientes que não são ativos tem maiores chances de churn, o que é bem razoável. A dúvida que ainda resta é: se o cliente é ativo, por que ele entraria em churn?"
   ]
  },
  {
   "cell_type": "code",
   "execution_count": 931,
   "id": "039fe003",
   "metadata": {
    "ExecuteTime": {
     "end_time": "2022-06-13T03:26:52.202454Z",
     "start_time": "2022-06-13T03:26:52.118453Z"
    },
    "hide_input": true
   },
   "outputs": [
    {
     "data": {
      "image/png": "[encoded data removed]",
      "text/plain": [
       "<Figure size 432x288 with 1 Axes>"
      ]
     },
     "metadata": {
      "needs_background": "light"
     },
     "output_type": "display_data"
    }
   ],
   "source": [
    "sns.countplot(dados4['is_active_member'],hue=dados4['exited']);"
   ]
  },
  {
   "cell_type": "code",
   "execution_count": 932,
   "id": "d7271f80",
   "metadata": {
    "ExecuteTime": {
     "end_time": "2022-06-13T03:26:52.625191Z",
     "start_time": "2022-06-13T03:26:52.598780Z"
    },
    "hide_input": false
   },
   "outputs": [
    {
     "data": {
      "text/html": [
       "<div>\n",
       "<style scoped>\n",
       "    .dataframe tbody tr th:only-of-type {\n",
       "        vertical-align: middle;\n",
       "    }\n",
       "\n",
       "    .dataframe tbody tr th {\n",
       "        vertical-align: top;\n",
       "    }\n",
       "\n",
       "    .dataframe thead th {\n",
       "        text-align: right;\n",
       "    }\n",
       "</style>\n",
       "<table border=\"1\" class=\"dataframe\">\n",
       "  <thead>\n",
       "    <tr style=\"text-align: right;\">\n",
       "      <th>exited</th>\n",
       "      <th>0</th>\n",
       "      <th>1</th>\n",
       "    </tr>\n",
       "    <tr>\n",
       "      <th>is_active_member</th>\n",
       "      <th></th>\n",
       "      <th></th>\n",
       "    </tr>\n",
       "  </thead>\n",
       "  <tbody>\n",
       "    <tr>\n",
       "      <th>0</th>\n",
       "      <td>73.15</td>\n",
       "      <td>26.85</td>\n",
       "    </tr>\n",
       "    <tr>\n",
       "      <th>1</th>\n",
       "      <td>85.73</td>\n",
       "      <td>14.27</td>\n",
       "    </tr>\n",
       "  </tbody>\n",
       "</table>\n",
       "</div>"
      ],
      "text/plain": [
       "exited                0      1\n",
       "is_active_member              \n",
       "0                 73.15  26.85\n",
       "1                 85.73  14.27"
      ]
     },
     "execution_count": 932,
     "metadata": {},
     "output_type": "execute_result"
    }
   ],
   "source": [
    "(pd.crosstab(dados4['is_active_member'],dados4['exited'],normalize=0)*100).round(2)"
   ]
  },
  {
   "cell_type": "markdown",
   "id": "52b1970b",
   "metadata": {},
   "source": [
    "### H2: Clientes que tiveram um maior tempo ativo tem menor chance de churn\n",
    "\n",
    "This hypothesis is **FALSE**\n",
    "\n",
    "Essa feature aparentemente não nos diz muita coisa, ela não separa tão bem os dados em nossas classes, ao menos em princípio."
   ]
  },
  {
   "cell_type": "code",
   "execution_count": 933,
   "id": "6732e82b",
   "metadata": {
    "ExecuteTime": {
     "end_time": "2022-06-13T03:26:53.866457Z",
     "start_time": "2022-06-13T03:26:53.736508Z"
    },
    "hide_input": true
   },
   "outputs": [
    {
     "data": {
      "image/png": "[encoded data removed]",
      "text/plain": [
       "<Figure size 432x288 with 1 Axes>"
      ]
     },
     "metadata": {
      "needs_background": "light"
     },
     "output_type": "display_data"
    }
   ],
   "source": [
    "sns.countplot(dados4['tenure'],hue=dados4['exited']);"
   ]
  },
  {
   "cell_type": "code",
   "execution_count": 934,
   "id": "510fe143",
   "metadata": {
    "ExecuteTime": {
     "end_time": "2022-06-13T03:26:53.943230Z",
     "start_time": "2022-06-13T03:26:53.931271Z"
    },
    "hide_input": true
   },
   "outputs": [
    {
     "data": {
      "text/html": [
       "<div>\n",
       "<style scoped>\n",
       "    .dataframe tbody tr th:only-of-type {\n",
       "        vertical-align: middle;\n",
       "    }\n",
       "\n",
       "    .dataframe tbody tr th {\n",
       "        vertical-align: top;\n",
       "    }\n",
       "\n",
       "    .dataframe thead th {\n",
       "        text-align: right;\n",
       "    }\n",
       "</style>\n",
       "<table border=\"1\" class=\"dataframe\">\n",
       "  <thead>\n",
       "    <tr style=\"text-align: right;\">\n",
       "      <th>exited</th>\n",
       "      <th>0</th>\n",
       "      <th>1</th>\n",
       "    </tr>\n",
       "    <tr>\n",
       "      <th>tenure</th>\n",
       "      <th></th>\n",
       "      <th></th>\n",
       "    </tr>\n",
       "  </thead>\n",
       "  <tbody>\n",
       "    <tr>\n",
       "      <th>0</th>\n",
       "      <td>77.00</td>\n",
       "      <td>23.00</td>\n",
       "    </tr>\n",
       "    <tr>\n",
       "      <th>1</th>\n",
       "      <td>77.58</td>\n",
       "      <td>22.42</td>\n",
       "    </tr>\n",
       "    <tr>\n",
       "      <th>2</th>\n",
       "      <td>80.82</td>\n",
       "      <td>19.18</td>\n",
       "    </tr>\n",
       "    <tr>\n",
       "      <th>3</th>\n",
       "      <td>78.89</td>\n",
       "      <td>21.11</td>\n",
       "    </tr>\n",
       "    <tr>\n",
       "      <th>4</th>\n",
       "      <td>79.47</td>\n",
       "      <td>20.53</td>\n",
       "    </tr>\n",
       "    <tr>\n",
       "      <th>5</th>\n",
       "      <td>79.35</td>\n",
       "      <td>20.65</td>\n",
       "    </tr>\n",
       "    <tr>\n",
       "      <th>6</th>\n",
       "      <td>79.73</td>\n",
       "      <td>20.27</td>\n",
       "    </tr>\n",
       "    <tr>\n",
       "      <th>7</th>\n",
       "      <td>82.78</td>\n",
       "      <td>17.22</td>\n",
       "    </tr>\n",
       "    <tr>\n",
       "      <th>8</th>\n",
       "      <td>80.78</td>\n",
       "      <td>19.22</td>\n",
       "    </tr>\n",
       "    <tr>\n",
       "      <th>9</th>\n",
       "      <td>78.35</td>\n",
       "      <td>21.65</td>\n",
       "    </tr>\n",
       "    <tr>\n",
       "      <th>10</th>\n",
       "      <td>79.39</td>\n",
       "      <td>20.61</td>\n",
       "    </tr>\n",
       "  </tbody>\n",
       "</table>\n",
       "</div>"
      ],
      "text/plain": [
       "exited      0      1\n",
       "tenure              \n",
       "0       77.00  23.00\n",
       "1       77.58  22.42\n",
       "2       80.82  19.18\n",
       "3       78.89  21.11\n",
       "4       79.47  20.53\n",
       "5       79.35  20.65\n",
       "6       79.73  20.27\n",
       "7       82.78  17.22\n",
       "8       80.78  19.22\n",
       "9       78.35  21.65\n",
       "10      79.39  20.61"
      ]
     },
     "execution_count": 934,
     "metadata": {},
     "output_type": "execute_result"
    }
   ],
   "source": [
    "(pd.crosstab(dados4['tenure'],dados4['exited'],normalize=0)*100).round(2)"
   ]
  },
  {
   "cell_type": "markdown",
   "id": "e5c31b46",
   "metadata": {
    "hide_input": true
   },
   "source": [
    "### H3: Existe uma diferença de gênero nas estatísticas de churn\n",
    "\n",
    "This hypothesis is **TRUE**\n",
    "\n",
    "Vemos claramente que as mulheres costumam dar churn muito mais do que os homens."
   ]
  },
  {
   "cell_type": "code",
   "execution_count": 935,
   "id": "15d38df3",
   "metadata": {
    "ExecuteTime": {
     "end_time": "2022-06-13T03:26:54.721279Z",
     "start_time": "2022-06-13T03:26:54.633841Z"
    },
    "hide_input": true
   },
   "outputs": [
    {
     "data": {
      "image/png": "[encoded data removed]",
      "text/plain": [
       "<Figure size 432x288 with 1 Axes>"
      ]
     },
     "metadata": {
      "needs_background": "light"
     },
     "output_type": "display_data"
    }
   ],
   "source": [
    "sns.countplot(dados4['gender'],hue=dados4['exited']);"
   ]
  },
  {
   "cell_type": "code",
   "execution_count": 936,
   "id": "745b5e4a",
   "metadata": {
    "ExecuteTime": {
     "end_time": "2022-06-13T03:26:54.936190Z",
     "start_time": "2022-06-13T03:26:54.909246Z"
    },
    "hide_input": true
   },
   "outputs": [
    {
     "data": {
      "text/html": [
       "<div>\n",
       "<style scoped>\n",
       "    .dataframe tbody tr th:only-of-type {\n",
       "        vertical-align: middle;\n",
       "    }\n",
       "\n",
       "    .dataframe tbody tr th {\n",
       "        vertical-align: top;\n",
       "    }\n",
       "\n",
       "    .dataframe thead th {\n",
       "        text-align: right;\n",
       "    }\n",
       "</style>\n",
       "<table border=\"1\" class=\"dataframe\">\n",
       "  <thead>\n",
       "    <tr style=\"text-align: right;\">\n",
       "      <th>exited</th>\n",
       "      <th>0</th>\n",
       "      <th>1</th>\n",
       "    </tr>\n",
       "    <tr>\n",
       "      <th>gender</th>\n",
       "      <th></th>\n",
       "      <th></th>\n",
       "    </tr>\n",
       "  </thead>\n",
       "  <tbody>\n",
       "    <tr>\n",
       "      <th>female</th>\n",
       "      <td>74.93</td>\n",
       "      <td>25.07</td>\n",
       "    </tr>\n",
       "    <tr>\n",
       "      <th>male</th>\n",
       "      <td>83.54</td>\n",
       "      <td>16.46</td>\n",
       "    </tr>\n",
       "  </tbody>\n",
       "</table>\n",
       "</div>"
      ],
      "text/plain": [
       "exited      0      1\n",
       "gender              \n",
       "female  74.93  25.07\n",
       "male    83.54  16.46"
      ]
     },
     "execution_count": 936,
     "metadata": {},
     "output_type": "execute_result"
    }
   ],
   "source": [
    "(pd.crosstab(dados4['gender'],dados4['exited'],normalize=0)*100).round(2)"
   ]
  },
  {
   "cell_type": "markdown",
   "id": "eaf57044",
   "metadata": {},
   "source": [
    "### H4: Clientes mais velhos são menos propensos a churn\n",
    "\n",
    "This hypothesis is **FALSE**\n",
    "\n",
    "Se vermos a distribuição de quem deu churn e quem não deu, vemos que em quem deu a idade é mais avançada do que em quem continua a consumir o produto da empresa."
   ]
  },
  {
   "cell_type": "code",
   "execution_count": 937,
   "id": "0f4d3ed4",
   "metadata": {
    "ExecuteTime": {
     "end_time": "2022-06-13T03:26:55.717279Z",
     "start_time": "2022-06-13T03:26:55.392070Z"
    },
    "hide_input": true
   },
   "outputs": [
    {
     "data": {
      "image/png": "[encoded data removed]",
      "text/plain": [
       "<Figure size 1296x288 with 3 Axes>"
      ]
     },
     "metadata": {
      "needs_background": "light"
     },
     "output_type": "display_data"
    }
   ],
   "source": [
    "plt.figure(figsize=(18,4))\n",
    "\n",
    "plt.subplot(1,3,1)\n",
    "sns.violinplot(dados4['age'],dados4['exited'].map({0:'no',1:'yes'}))\n",
    "\n",
    "plt.subplot(1,3,2)\n",
    "sns.boxplot(y=dados4['exited'],x=dados4['age'],orient='h')\n",
    "\n",
    "plt.subplot(1,3,3)\n",
    "sns.barplot(y=dados4['exited'].map({0:'no',1:'yes'}),x=dados4['age'])\n",
    "\n",
    "plt.show()"
   ]
  },
  {
   "cell_type": "markdown",
   "id": "53854caf",
   "metadata": {},
   "source": [
    "### H5: Clientes com maiores estimate salaries tem menor propensão de churn\n",
    "\n",
    "This hypothesis is **FALSE**\n",
    "\n",
    "Não vemos diferença entre as distribuições, essa feature parece não separar bem nossas classes, ao menos em princípio."
   ]
  },
  {
   "cell_type": "code",
   "execution_count": 938,
   "id": "73de5237",
   "metadata": {
    "ExecuteTime": {
     "end_time": "2022-06-13T03:26:56.009695Z",
     "start_time": "2022-06-13T03:26:55.719405Z"
    },
    "hide_input": true
   },
   "outputs": [
    {
     "data": {
      "image/png": "[encoded data removed]",
      "text/plain": [
       "<Figure size 1296x288 with 3 Axes>"
      ]
     },
     "metadata": {
      "needs_background": "light"
     },
     "output_type": "display_data"
    }
   ],
   "source": [
    "plt.figure(figsize=(18,4))\n",
    "\n",
    "plt.subplot(1,3,1)\n",
    "sns.violinplot(dados4['estimated_salary'],dados4['exited'].map({0:'no',1:'yes'}))\n",
    "\n",
    "plt.subplot(1,3,2)\n",
    "sns.boxplot(y=dados4['exited'],x=dados4['estimated_salary'],orient='h')\n",
    "\n",
    "plt.subplot(1,3,3)\n",
    "sns.barplot(y=dados4['exited'].map({0:'no',1:'yes'}),x=dados4['estimated_salary'])\n",
    "\n",
    "plt.show()"
   ]
  },
  {
   "cell_type": "markdown",
   "id": "4dff6a22",
   "metadata": {},
   "source": [
    "## 4.4 Multivariate Analysis"
   ]
  },
  {
   "cell_type": "code",
   "execution_count": 939,
   "id": "a7ec359c",
   "metadata": {
    "ExecuteTime": {
     "end_time": "2022-06-13T03:26:56.504389Z",
     "start_time": "2022-06-13T03:26:56.188204Z"
    }
   },
   "outputs": [
    {
     "data": {
      "image/png": "[encoded data removed]",
      "text/plain": [
       "<Figure size 864x864 with 1 Axes>"
      ]
     },
     "metadata": {
      "needs_background": "light"
     },
     "output_type": "display_data"
    }
   ],
   "source": [
    "plt.figure(figsize=(12,12))\n",
    "sns.heatmap(dados4.corr(),annot=True,fmt='.2f',cbar=False);"
   ]
  },
  {
   "cell_type": "markdown",
   "id": "80b81420",
   "metadata": {},
   "source": [
    "# 5.0 Data Filtering"
   ]
  },
  {
   "cell_type": "code",
   "execution_count": 1616,
   "id": "6d9ada2d",
   "metadata": {
    "ExecuteTime": {
     "end_time": "2022-06-13T18:36:49.341638Z",
     "start_time": "2022-06-13T18:36:49.322946Z"
    }
   },
   "outputs": [],
   "source": [
    "dados5 = dados4.copy()"
   ]
  },
  {
   "cell_type": "code",
   "execution_count": 1617,
   "id": "fb9cfad5",
   "metadata": {
    "ExecuteTime": {
     "end_time": "2022-06-13T18:36:49.725429Z",
     "start_time": "2022-06-13T18:36:49.715835Z"
    }
   },
   "outputs": [],
   "source": [
    "dados5.drop(['customer_id','surname'],1,inplace=True) # Por agora vou tirar essas colunas 'inúteis'\n",
    "# Tenho perspectiva de fazer algo com surname, talvez indique um movimento familiar ou de origem"
   ]
  },
  {
   "cell_type": "markdown",
   "id": "4ba35d21",
   "metadata": {},
   "source": [
    "# 6.0 Data Preparation"
   ]
  },
  {
   "cell_type": "code",
   "execution_count": 1618,
   "id": "81ce9826",
   "metadata": {
    "ExecuteTime": {
     "end_time": "2022-06-13T18:36:49.830833Z",
     "start_time": "2022-06-13T18:36:49.824891Z"
    }
   },
   "outputs": [],
   "source": [
    "dados6 = dados5.copy()"
   ]
  },
  {
   "cell_type": "markdown",
   "id": "a02f2c86",
   "metadata": {},
   "source": [
    "## 6.1 Train Test Split"
   ]
  },
  {
   "cell_type": "code",
   "execution_count": 1619,
   "id": "83360fe4",
   "metadata": {
    "ExecuteTime": {
     "end_time": "2022-06-13T18:36:49.966285Z",
     "start_time": "2022-06-13T18:36:49.940552Z"
    }
   },
   "outputs": [],
   "source": [
    "x , y = dados6.drop('exited',1),dados6['exited']\n",
    "x_train_val,x_test,y_train_val,y_test = train_test_split(x,y,test_size=0.1,random_state=101,stratify=y)\n",
    "x_train,x_val,y_train,y_val = train_test_split(x_train_val,y_train_val,test_size=0.2,random_state=101,stratify=y_train_val)"
   ]
  },
  {
   "cell_type": "markdown",
   "id": "3a10fbf8",
   "metadata": {},
   "source": [
    "## 6.2 Encoding"
   ]
  },
  {
   "cell_type": "code",
   "execution_count": 1620,
   "id": "12b02ee3",
   "metadata": {
    "ExecuteTime": {
     "end_time": "2022-06-13T18:36:50.097839Z",
     "start_time": "2022-06-13T18:36:50.046056Z"
    }
   },
   "outputs": [],
   "source": [
    "te = TargetEncoder(cols=['geography'])\n",
    "\n",
    "te.fit(x_train,y_train)\n",
    "x_train = te.transform(x_train)\n",
    "x_val = te.transform(x_val)\n",
    "x_test = te.transform(x_test)\n",
    "pkl.dump(te,open('/Users/nando/Comunidade DS/churn/deploy/pkl/te.pkl','wb'))\n",
    "\n",
    "le = LabelEncoder()\n",
    "le.fit(x_train['gender'])\n",
    "x_train['gender'] = le.transform(x_train['gender'])\n",
    "x_val['gender'] = le.transform(x_val['gender'])\n",
    "x_test['gender'] = le.transform(x_test['gender'])\n",
    "pkl.dump(le,open('/Users/nando/Comunidade DS/churn/deploy/pkl/le.pkl','wb'))"
   ]
  },
  {
   "cell_type": "markdown",
   "id": "89ddf40a",
   "metadata": {},
   "source": [
    "## 6.3 Oversampling"
   ]
  },
  {
   "cell_type": "code",
   "execution_count": 1621,
   "id": "09d3ac8f",
   "metadata": {
    "ExecuteTime": {
     "end_time": "2022-06-13T18:36:50.227645Z",
     "start_time": "2022-06-13T18:36:50.197044Z"
    }
   },
   "outputs": [],
   "source": [
    "over_sampler = over_sampling.SMOTE()\n",
    "x_train,y_train = over_sampler.fit_resample(x_train,y_train)\n",
    "x_train = pd.DataFrame(x_train)"
   ]
  },
  {
   "cell_type": "markdown",
   "id": "e2def86e",
   "metadata": {},
   "source": [
    "## 6.4 Rescaling"
   ]
  },
  {
   "cell_type": "code",
   "execution_count": 1622,
   "id": "96ca0406",
   "metadata": {
    "ExecuteTime": {
     "end_time": "2022-06-13T18:36:50.353681Z",
     "start_time": "2022-06-13T18:36:50.330461Z"
    }
   },
   "outputs": [],
   "source": [
    "mms = MinMaxScaler()\n",
    "columns = ['credit_score', 'geography', 'gender', 'age','tenure', 'balance', 'num_of_products', 'has_cr_card','is_active_member', 'estimated_salary', 'surname_size']\n",
    "\n",
    "mms.fit(x_train)\n",
    "x_train = mms.transform(x_train)\n",
    "x_val = mms.transform(x_val)\n",
    "x_test = mms.transform(x_test)\n",
    "\n",
    "x_train = pd.DataFrame(x_train,columns=columns)\n",
    "x_val = pd.DataFrame(x_val,columns=columns)\n",
    "x_test = pd.DataFrame(x_test,columns=columns)\n",
    "\n",
    "pkl.dump(mms,open('/Users/nando/Comunidade DS/churn/deploy/pkl/mms.pkl','wb'))"
   ]
  },
  {
   "cell_type": "markdown",
   "id": "98fe80ca",
   "metadata": {
    "ExecuteTime": {
     "end_time": "2022-06-10T19:01:16.874955Z",
     "start_time": "2022-06-10T19:01:16.872239Z"
    }
   },
   "source": [
    "## 6.5 Feature Selection"
   ]
  },
  {
   "cell_type": "code",
   "execution_count": 1623,
   "id": "636cff1d",
   "metadata": {
    "ExecuteTime": {
     "end_time": "2022-06-13T18:36:50.425724Z",
     "start_time": "2022-06-13T18:36:50.419775Z"
    }
   },
   "outputs": [
    {
     "data": {
      "text/plain": [
       "Index(['credit_score', 'geography', 'gender', 'age', 'balance',\n",
       "       'num_of_products', 'is_active_member', 'estimated_salary'],\n",
       "      dtype='object')"
      ]
     },
     "execution_count": 1623,
     "metadata": {},
     "output_type": "execute_result"
    }
   ],
   "source": [
    "x_train.columns[boruta.support_]"
   ]
  },
  {
   "cell_type": "code",
   "execution_count": 1624,
   "id": "558e8773",
   "metadata": {
    "ExecuteTime": {
     "end_time": "2022-06-13T18:36:52.404856Z",
     "start_time": "2022-06-13T18:36:50.515689Z"
    }
   },
   "outputs": [
    {
     "name": "stdout",
     "output_type": "stream",
     "text": [
      "Iteration: \t1 / 100\n",
      "Confirmed: \t0\n",
      "Tentative: \t11\n",
      "Rejected: \t0\n",
      "Iteration: \t2 / 100\n",
      "Confirmed: \t0\n",
      "Tentative: \t11\n",
      "Rejected: \t0\n",
      "Iteration: \t3 / 100\n",
      "Confirmed: \t0\n",
      "Tentative: \t11\n",
      "Rejected: \t0\n",
      "Iteration: \t4 / 100\n",
      "Confirmed: \t0\n",
      "Tentative: \t11\n",
      "Rejected: \t0\n",
      "Iteration: \t5 / 100\n",
      "Confirmed: \t0\n",
      "Tentative: \t11\n",
      "Rejected: \t0\n",
      "Iteration: \t6 / 100\n",
      "Confirmed: \t0\n",
      "Tentative: \t11\n",
      "Rejected: \t0\n",
      "Iteration: \t7 / 100\n",
      "Confirmed: \t0\n",
      "Tentative: \t11\n",
      "Rejected: \t0\n",
      "Iteration: \t8 / 100\n",
      "Confirmed: \t8\n",
      "Tentative: \t0\n",
      "Rejected: \t3\n",
      "\n",
      "\n",
      "BorutaPy finished running.\n",
      "\n",
      "Iteration: \t9 / 100\n",
      "Confirmed: \t8\n",
      "Tentative: \t0\n",
      "Rejected: \t3\n",
      "\n",
      "\n",
      "Selected Features:\n",
      " ['credit_score', 'geography', 'gender', 'age', 'balance', 'num_of_products', 'is_active_member', 'estimated_salary']\n"
     ]
    }
   ],
   "source": [
    "estimator = RandomForestClassifier(n_jobs=-1)\n",
    "boruta = BorutaPy(estimator, n_estimators='auto', verbose=2, random_state=101)\n",
    "boruta.fit(x_train.values, y_train.values)\n",
    "print(f'\\n\\nSelected Features:\\n {list(x_train.columns[boruta.support_].values)}')"
   ]
  },
  {
   "cell_type": "code",
   "execution_count": 1625,
   "id": "43751008",
   "metadata": {
    "ExecuteTime": {
     "end_time": "2022-06-13T18:36:52.411886Z",
     "start_time": "2022-06-13T18:36:52.406903Z"
    }
   },
   "outputs": [],
   "source": [
    "cols = ['credit_score', 'geography', 'gender', 'age', 'balance', 'num_of_products', 'is_active_member', 'estimated_salary']\n",
    "x_train = x_train[cols]\n",
    "x_val = x_val[cols]\n",
    "x_test = x_test[cols]"
   ]
  },
  {
   "cell_type": "markdown",
   "id": "2f41b654",
   "metadata": {},
   "source": [
    "# 7.0 Model Selection and Evaluation"
   ]
  },
  {
   "cell_type": "markdown",
   "id": "7f02e37e",
   "metadata": {},
   "source": [
    "## 7.1 Hold-Out"
   ]
  },
  {
   "cell_type": "markdown",
   "id": "8e6b4bfd",
   "metadata": {},
   "source": [
    "### 7.1.1 Decision Tree"
   ]
  },
  {
   "cell_type": "code",
   "execution_count": 1626,
   "id": "fe9e15c0",
   "metadata": {
    "ExecuteTime": {
     "end_time": "2022-06-13T18:36:52.481292Z",
     "start_time": "2022-06-13T18:36:52.413565Z"
    }
   },
   "outputs": [
    {
     "name": "stdout",
     "output_type": "stream",
     "text": [
      "              precision    recall  f1-score   support\n",
      "\n",
      "           0       0.89      0.81      0.84      1433\n",
      "           1       0.44      0.59      0.50       367\n",
      "\n",
      "    accuracy                           0.76      1800\n",
      "   macro avg       0.66      0.70      0.67      1800\n",
      "weighted avg       0.79      0.76      0.77      1800\n",
      "\n"
     ]
    }
   ],
   "source": [
    "model = DecisionTreeClassifier()\n",
    "model.fit(x_train,y_train)\n",
    "print(classification_report(y_val,model.predict(x_val)))"
   ]
  },
  {
   "cell_type": "markdown",
   "id": "55275cca",
   "metadata": {},
   "source": [
    "### 7.1.2 Logistic Regression"
   ]
  },
  {
   "cell_type": "code",
   "execution_count": 1627,
   "id": "45edb6b6",
   "metadata": {
    "ExecuteTime": {
     "end_time": "2022-06-13T18:36:52.544959Z",
     "start_time": "2022-06-13T18:36:52.483730Z"
    }
   },
   "outputs": [
    {
     "name": "stdout",
     "output_type": "stream",
     "text": [
      "              precision    recall  f1-score   support\n",
      "\n",
      "           0       0.88      0.78      0.82      1433\n",
      "           1       0.40      0.58      0.47       367\n",
      "\n",
      "    accuracy                           0.74      1800\n",
      "   macro avg       0.64      0.68      0.65      1800\n",
      "weighted avg       0.78      0.74      0.75      1800\n",
      "\n"
     ]
    }
   ],
   "source": [
    "model = LogisticRegression(penalty='l1',solver='liblinear',class_weight='balanced')\n",
    "model.fit(x_train,y_train)\n",
    "print(classification_report(y_val,model.predict(x_val)))"
   ]
  },
  {
   "cell_type": "markdown",
   "id": "041112e0",
   "metadata": {},
   "source": [
    "### 7.1.3 Random Forest"
   ]
  },
  {
   "cell_type": "code",
   "execution_count": 1628,
   "id": "e4ee0e0e",
   "metadata": {
    "ExecuteTime": {
     "end_time": "2022-06-13T18:36:53.635005Z",
     "start_time": "2022-06-13T18:36:52.546341Z"
    }
   },
   "outputs": [
    {
     "name": "stdout",
     "output_type": "stream",
     "text": [
      "              precision    recall  f1-score   support\n",
      "\n",
      "           0       0.89      0.89      0.89      1433\n",
      "           1       0.58      0.59      0.59       367\n",
      "\n",
      "    accuracy                           0.83      1800\n",
      "   macro avg       0.74      0.74      0.74      1800\n",
      "weighted avg       0.83      0.83      0.83      1800\n",
      "\n"
     ]
    }
   ],
   "source": [
    "model = RandomForestClassifier()\n",
    "model.fit(x_train,y_train)\n",
    "print(classification_report(y_val,model.predict(x_val)))"
   ]
  },
  {
   "cell_type": "markdown",
   "id": "7c28199d",
   "metadata": {},
   "source": [
    "### 7.1.4 SVM"
   ]
  },
  {
   "cell_type": "code",
   "execution_count": 1629,
   "id": "3ca196ee",
   "metadata": {
    "ExecuteTime": {
     "end_time": "2022-06-13T18:36:55.842999Z",
     "start_time": "2022-06-13T18:36:53.636935Z"
    }
   },
   "outputs": [
    {
     "name": "stdout",
     "output_type": "stream",
     "text": [
      "              precision    recall  f1-score   support\n",
      "\n",
      "           0       0.89      0.87      0.88      1433\n",
      "           1       0.53      0.58      0.55       367\n",
      "\n",
      "    accuracy                           0.81      1800\n",
      "   macro avg       0.71      0.72      0.71      1800\n",
      "weighted avg       0.82      0.81      0.81      1800\n",
      "\n"
     ]
    }
   ],
   "source": [
    "model = SVC()\n",
    "model.fit(x_train,y_train)\n",
    "print(classification_report(y_val,model.predict(x_val)))"
   ]
  },
  {
   "cell_type": "markdown",
   "id": "dd8e2795",
   "metadata": {},
   "source": [
    "### 7.1.5 XGBoost"
   ]
  },
  {
   "cell_type": "code",
   "execution_count": 1630,
   "id": "0b9b9134",
   "metadata": {
    "ExecuteTime": {
     "end_time": "2022-06-13T18:36:56.520458Z",
     "start_time": "2022-06-13T18:36:55.844675Z"
    }
   },
   "outputs": [
    {
     "name": "stdout",
     "output_type": "stream",
     "text": [
      "              precision    recall  f1-score   support\n",
      "\n",
      "           0       0.90      0.90      0.90      1433\n",
      "           1       0.62      0.61      0.61       367\n",
      "\n",
      "    accuracy                           0.84      1800\n",
      "   macro avg       0.76      0.76      0.76      1800\n",
      "weighted avg       0.84      0.84      0.84      1800\n",
      "\n"
     ]
    }
   ],
   "source": [
    "model = XGBClassifier()\n",
    "model.fit(x_train,y_train)\n",
    "print(classification_report(y_val,model.predict(x_val)))"
   ]
  },
  {
   "cell_type": "markdown",
   "id": "b3448e65",
   "metadata": {},
   "source": [
    "### 7.1.6 LGBM"
   ]
  },
  {
   "cell_type": "code",
   "execution_count": 1631,
   "id": "9b80f6cd",
   "metadata": {
    "ExecuteTime": {
     "end_time": "2022-06-13T18:36:56.838450Z",
     "start_time": "2022-06-13T18:36:56.523143Z"
    }
   },
   "outputs": [
    {
     "name": "stdout",
     "output_type": "stream",
     "text": [
      "              precision    recall  f1-score   support\n",
      "\n",
      "           0       0.90      0.90      0.90      1433\n",
      "           1       0.62      0.63      0.62       367\n",
      "\n",
      "    accuracy                           0.85      1800\n",
      "   macro avg       0.76      0.76      0.76      1800\n",
      "weighted avg       0.85      0.85      0.85      1800\n",
      "\n"
     ]
    }
   ],
   "source": [
    "model = LGBMClassifier()\n",
    "model.fit(x_train,y_train)\n",
    "print(classification_report(y_val,model.predict(x_val)))"
   ]
  },
  {
   "cell_type": "markdown",
   "id": "fc0fd93e",
   "metadata": {},
   "source": [
    "## 7.2 Cross Validation"
   ]
  },
  {
   "cell_type": "code",
   "execution_count": 1633,
   "id": "86406f05",
   "metadata": {
    "ExecuteTime": {
     "end_time": "2022-06-13T18:36:56.855770Z",
     "start_time": "2022-06-13T18:36:56.847326Z"
    }
   },
   "outputs": [],
   "source": [
    "def pipeline_datapreparation(x_train,y_train,x_val,y_val):\n",
    "    \n",
    "    ## 6.2 Encoding\n",
    "\n",
    "    te = TargetEncoder(cols=['geography'])\n",
    "    te.fit(x_train,y_train)\n",
    "    x_train = te.transform(x_train)\n",
    "    x_val = te.transform(x_val)\n",
    "\n",
    "    le = LabelEncoder()\n",
    "    le.fit(x_train['gender'])\n",
    "    x_train['gender'] = le.transform(x_train['gender'])\n",
    "    x_val['gender'] = le.transform(x_val['gender'])\n",
    "\n",
    "    ## 6.3 Oversampling\n",
    "\n",
    "    over_sampler = over_sampling.SMOTE()\n",
    "    x_train,y_train = over_sampler.fit_resample(x_train,y_train)\n",
    "    x_train = pd.DataFrame(x_train)\n",
    "\n",
    "    ## 6.4 Rescaling\n",
    "\n",
    "    mms = MinMaxScaler()\n",
    "    columns = ['credit_score', 'geography', 'gender', 'age','tenure', 'balance', 'num_of_products', 'has_cr_card','is_active_member', 'estimated_salary', 'surname_size']\n",
    "\n",
    "    mms.fit(x_train)\n",
    "    x_train = mms.transform(x_train)\n",
    "    x_val = mms.transform(x_val)\n",
    "    x_train = pd.DataFrame(x_train,columns=columns)\n",
    "    x_val = pd.DataFrame(x_val,columns=columns)\n",
    "    \n",
    "    ## 6.5 Feature Selection\n",
    "    \n",
    "    cols = ['credit_score', 'geography', 'gender', 'age', 'balance', 'num_of_products', 'is_active_member', 'estimated_salary']\n",
    "    x_train = x_train[cols]\n",
    "    x_val = x_val[cols]\n",
    "    \n",
    "    return x_train,y_train,x_val,y_val"
   ]
  },
  {
   "cell_type": "code",
   "execution_count": 1634,
   "id": "93737a88",
   "metadata": {
    "ExecuteTime": {
     "end_time": "2022-06-13T18:36:56.933610Z",
     "start_time": "2022-06-13T18:36:56.926194Z"
    }
   },
   "outputs": [],
   "source": [
    "def cv(model,x,y,cv_spliter):\n",
    "    accuracy, precision, recall, f1 = [],[],[],[]\n",
    "    for fold, (train_index, val_index) in enumerate(cv_spliter.split(x,y)):\n",
    "        x_train, x_val, y_train, y_val = x.loc[train_index],x.loc[val_index],y.loc[train_index],y.loc[val_index]\n",
    "        \n",
    "        print(f'{fold+1}º Fold da CV!')\n",
    "        \n",
    "        x_train,y_train,x_val,y_val = pipeline_datapreparation(x_train,y_train,x_val,y_val)\n",
    "\n",
    "        model.fit(x_train,y_train)\n",
    "\n",
    "        y_true = y_val\n",
    "        y_pred = model.predict(x_val)\n",
    "        \n",
    "        precision.append(m.precision_score(y_true,y_pred))\n",
    "        recall.append(m.recall_score(y_true,y_pred))\n",
    "        f1.append(m.f1_score(y_true,y_pred))\n",
    "        accuracy.append(m.accuracy_score(y_true,y_pred))\n",
    "        \n",
    "    print('\\nAccuracy: {:.3f} +/- {:.3f}\\nPrecision: {:.3f} +/- {:.3f}\\nRecall: {:.3f} +/- {:.3f}\\nF1 Score: {:.3f} +/- {:.3f}'.format(np.mean(accuracy),np.std(accuracy),np.mean(precision),np.std(precision),np.mean(recall),np.std(recall),np.mean(f1),np.std(f1)))"
   ]
  },
  {
   "cell_type": "markdown",
   "id": "1b3d07d4",
   "metadata": {},
   "source": [
    "### 7.2.1 Decision Tree"
   ]
  },
  {
   "cell_type": "code",
   "execution_count": 1635,
   "id": "621bc743",
   "metadata": {
    "ExecuteTime": {
     "end_time": "2022-06-13T18:36:58.353059Z",
     "start_time": "2022-06-13T18:36:57.876488Z"
    }
   },
   "outputs": [
    {
     "name": "stdout",
     "output_type": "stream",
     "text": [
      "1º Fold da CV!\n",
      "2º Fold da CV!\n",
      "3º Fold da CV!\n",
      "4º Fold da CV!\n",
      "5º Fold da CV!\n",
      "\n",
      "Accuracy: 0.779 +/- 0.004\n",
      "Precision: 0.465 +/- 0.011\n",
      "Recall: 0.583 +/- 0.010\n",
      "F1 Score: 0.518 +/- 0.009\n"
     ]
    }
   ],
   "source": [
    "cv(DecisionTreeClassifier(),x,y,KFold(n_splits=5))"
   ]
  },
  {
   "cell_type": "markdown",
   "id": "4a0b922a",
   "metadata": {},
   "source": [
    "### 7.2.2 Logistic Regression"
   ]
  },
  {
   "cell_type": "code",
   "execution_count": 1636,
   "id": "c7aef8e5",
   "metadata": {
    "ExecuteTime": {
     "end_time": "2022-06-13T18:36:58.937847Z",
     "start_time": "2022-06-13T18:36:58.635308Z"
    }
   },
   "outputs": [
    {
     "name": "stdout",
     "output_type": "stream",
     "text": [
      "1º Fold da CV!\n",
      "2º Fold da CV!\n",
      "3º Fold da CV!\n",
      "4º Fold da CV!\n",
      "5º Fold da CV!\n",
      "\n",
      "Accuracy: 0.734 +/- 0.011\n",
      "Precision: 0.399 +/- 0.018\n",
      "Recall: 0.605 +/- 0.024\n",
      "F1 Score: 0.481 +/- 0.021\n"
     ]
    }
   ],
   "source": [
    "cv(LogisticRegression(),x,y,KFold(n_splits=5))"
   ]
  },
  {
   "cell_type": "markdown",
   "id": "694d6402",
   "metadata": {},
   "source": [
    "### 7.2.3 Random Forest"
   ]
  },
  {
   "cell_type": "code",
   "execution_count": 1637,
   "id": "43f05641",
   "metadata": {
    "ExecuteTime": {
     "end_time": "2022-06-13T18:37:01.325415Z",
     "start_time": "2022-06-13T18:36:59.404265Z"
    }
   },
   "outputs": [
    {
     "name": "stdout",
     "output_type": "stream",
     "text": [
      "1º Fold da CV!\n",
      "2º Fold da CV!\n",
      "3º Fold da CV!\n",
      "4º Fold da CV!\n",
      "5º Fold da CV!\n",
      "\n",
      "Accuracy: 0.833 +/- 0.005\n",
      "Precision: 0.588 +/- 0.024\n",
      "Recall: 0.607 +/- 0.027\n",
      "F1 Score: 0.597 +/- 0.024\n"
     ]
    }
   ],
   "source": [
    "cv(RandomForestClassifier(n_jobs=-1),x,y,KFold(n_splits=5))"
   ]
  },
  {
   "cell_type": "markdown",
   "id": "750f23bd",
   "metadata": {},
   "source": [
    "### 7.2.4 SVM"
   ]
  },
  {
   "cell_type": "code",
   "execution_count": 1638,
   "id": "242dc7dc",
   "metadata": {
    "ExecuteTime": {
     "end_time": "2022-06-13T18:37:14.798471Z",
     "start_time": "2022-06-13T18:37:01.327549Z"
    }
   },
   "outputs": [
    {
     "name": "stdout",
     "output_type": "stream",
     "text": [
      "1º Fold da CV!\n",
      "2º Fold da CV!\n",
      "3º Fold da CV!\n",
      "4º Fold da CV!\n",
      "5º Fold da CV!\n",
      "\n",
      "Accuracy: 0.809 +/- 0.006\n",
      "Precision: 0.526 +/- 0.018\n",
      "Recall: 0.619 +/- 0.028\n",
      "F1 Score: 0.569 +/- 0.022\n"
     ]
    }
   ],
   "source": [
    "cv(SVC(),x,y,KFold(n_splits=5))"
   ]
  },
  {
   "cell_type": "markdown",
   "id": "e791f45c",
   "metadata": {},
   "source": [
    "### 7.2.5 XGBoost"
   ]
  },
  {
   "cell_type": "code",
   "execution_count": 1639,
   "id": "f49da54b",
   "metadata": {
    "ExecuteTime": {
     "end_time": "2022-06-13T18:37:18.246233Z",
     "start_time": "2022-06-13T18:37:14.799892Z"
    }
   },
   "outputs": [
    {
     "name": "stdout",
     "output_type": "stream",
     "text": [
      "1º Fold da CV!\n",
      "2º Fold da CV!\n",
      "3º Fold da CV!\n",
      "4º Fold da CV!\n",
      "5º Fold da CV!\n",
      "\n",
      "Accuracy: 0.840 +/- 0.004\n",
      "Precision: 0.604 +/- 0.020\n",
      "Recall: 0.626 +/- 0.018\n",
      "F1 Score: 0.615 +/- 0.017\n"
     ]
    }
   ],
   "source": [
    "cv(XGBClassifier(),x,y,KFold(n_splits=5))"
   ]
  },
  {
   "cell_type": "markdown",
   "id": "0c8648c5",
   "metadata": {},
   "source": [
    "### 7.2.6 LGBM"
   ]
  },
  {
   "cell_type": "code",
   "execution_count": 1640,
   "id": "baa60328",
   "metadata": {
    "ExecuteTime": {
     "end_time": "2022-06-13T18:37:20.185636Z",
     "start_time": "2022-06-13T18:37:18.249476Z"
    }
   },
   "outputs": [
    {
     "name": "stdout",
     "output_type": "stream",
     "text": [
      "1º Fold da CV!\n",
      "2º Fold da CV!\n",
      "3º Fold da CV!\n",
      "4º Fold da CV!\n",
      "5º Fold da CV!\n",
      "\n",
      "Accuracy: 0.842 +/- 0.008\n",
      "Precision: 0.611 +/- 0.030\n",
      "Recall: 0.617 +/- 0.025\n",
      "F1 Score: 0.614 +/- 0.025\n"
     ]
    }
   ],
   "source": [
    "cv(LGBMClassifier(n_jobs=-1),x,y,KFold(n_splits=5))"
   ]
  },
  {
   "cell_type": "markdown",
   "id": "91cf50b4",
   "metadata": {},
   "source": [
    "# 8.0 Hyperparams Fine Tuning"
   ]
  },
  {
   "cell_type": "code",
   "execution_count": 1641,
   "id": "c2057267",
   "metadata": {
    "ExecuteTime": {
     "end_time": "2022-06-13T18:37:20.539591Z",
     "start_time": "2022-06-13T18:37:20.188587Z"
    }
   },
   "outputs": [],
   "source": [
    "# best model (ill do hyperparams fine tuning later)\n",
    "model = LGBMClassifier().fit(x_train,y_train)\n",
    "pkl.dump(model,open('/Users/nando/Comunidade DS/churn/deploy/pkl/model.pkl','wb'))"
   ]
  },
  {
   "cell_type": "markdown",
   "id": "a9628f80",
   "metadata": {},
   "source": [
    "# 9.0 Error and Business Interpretation"
   ]
  },
  {
   "cell_type": "markdown",
   "id": "99b925a4",
   "metadata": {},
   "source": [
    "## 9.1 Error Interpretation"
   ]
  },
  {
   "cell_type": "code",
   "execution_count": 1387,
   "id": "31c62f5b",
   "metadata": {
    "ExecuteTime": {
     "end_time": "2022-06-13T05:59:46.104959Z",
     "start_time": "2022-06-13T05:59:45.922778Z"
    }
   },
   "outputs": [
    {
     "name": "stdout",
     "output_type": "stream",
     "text": [
      "              precision    recall  f1-score   support\n",
      "\n",
      "           0       0.89      0.90      0.89       796\n",
      "           1       0.59      0.58      0.59       204\n",
      "\n",
      "    accuracy                           0.83      1000\n",
      "   macro avg       0.74      0.74      0.74      1000\n",
      "weighted avg       0.83      0.83      0.83      1000\n",
      "\n"
     ]
    }
   ],
   "source": [
    "# Precision Top 100\n",
    "lgbm = LGBMClassifier()\n",
    "lgbm.fit(x_train,y_train)\n",
    "print(classification_report(y_test,model.predict(x_test)))"
   ]
  },
  {
   "cell_type": "markdown",
   "id": "1227acdc",
   "metadata": {},
   "source": [
    "## 9.2 Business Interpretation"
   ]
  },
  {
   "cell_type": "code",
   "execution_count": 1475,
   "id": "6f99c4d7",
   "metadata": {
    "ExecuteTime": {
     "end_time": "2022-06-13T06:37:07.498101Z",
     "start_time": "2022-06-13T06:37:07.493199Z"
    }
   },
   "outputs": [],
   "source": [
    "# A possível perda é de: 1% do balance (transações)\n",
    "# Custa 0.5% do balance fazer o cliente desistir do churn (Quanto mais dinheiro a pessoa tem, mais caro ela custa)"
   ]
  },
  {
   "cell_type": "markdown",
   "id": "c6719aa2",
   "metadata": {},
   "source": [
    "### 9.2.1 Approaches Comparison"
   ]
  },
  {
   "cell_type": "code",
   "execution_count": 1486,
   "id": "ee8a2ca0",
   "metadata": {
    "ExecuteTime": {
     "end_time": "2022-06-13T06:39:25.601890Z",
     "start_time": "2022-06-13T06:39:24.889452Z"
    },
    "hide_input": true
   },
   "outputs": [
    {
     "name": "stdout",
     "output_type": "stream",
     "text": [
      "Using AI -> Max ROI: $22582.232 com o investimento em 114 clientes\n"
     ]
    },
    {
     "data": {
      "image/png": "[encoded data removed]",
      "text/plain": [
       "<Figure size 1152x720 with 1 Axes>"
      ]
     },
     "metadata": {
      "needs_background": "light"
     },
     "output_type": "display_data"
    }
   ],
   "source": [
    "# Using AI\n",
    "\n",
    "aux = pd.DataFrame()\n",
    "aux['y_true'] = y_true\n",
    "aux['y_proba'] = y_proba[:,1]\n",
    "aux['balance'] = dados5.loc[aux.index,'balance']\n",
    "aux['possivel_perda'] = aux['balance']*0.01\n",
    "aux['custo'] = aux['balance']*0.005\n",
    "aux = aux.sort_values('y_proba',ascending=False)\n",
    "\n",
    "roi_ai,k_list = [],np.arange(0,aux.shape[0])\n",
    "for k in k_list:\n",
    "    aux_k = aux[:k] # scored choice\n",
    "    y1 = aux_k[aux_k['y_true']==1]\n",
    "    y0 = aux_k[aux_k['y_true']==0]\n",
    "    possivel_perda = y1['possivel_perda'].sum()\n",
    "    custo = y1['custo'].sum()+y0['custo'].sum()\n",
    "    roi_ai.append(possivel_perda - custo)\n",
    "    \n",
    "print(f'Using AI -> Max ROI: ${np.max(roi_ai).round(3)} com o investimento em {roi_ai.index(np.max(roi_ai))+1} clientes')\n",
    "\n",
    "plt.figure(figsize=(16,10))\n",
    "ax = sns.lineplot(x=k_list,y=roi_ai);\n",
    "ax.set_title('ROI using AI x Number of Clients to Prevent from Churn',size=14)\n",
    "ax.set_ylabel('ROI',labelpad=10,size=12)\n",
    "ax.set_xlabel('K Clients from Scored Dataset',labelpad=10,size=12)\n",
    "plt.show()"
   ]
  },
  {
   "cell_type": "code",
   "execution_count": 1485,
   "id": "26f34f07",
   "metadata": {
    "ExecuteTime": {
     "end_time": "2022-06-13T06:39:13.509303Z",
     "start_time": "2022-06-13T06:39:12.180020Z"
    },
    "hide_input": true
   },
   "outputs": [
    {
     "name": "stdout",
     "output_type": "stream",
     "text": [
      "Not Using Ai -> Max ROI: $0.005 com o investimento em 5 clientes\n"
     ]
    },
    {
     "data": {
      "image/png": "[encoded data removed]",
      "text/plain": [
       "<Figure size 1152x720 with 1 Axes>"
      ]
     },
     "metadata": {
      "needs_background": "light"
     },
     "output_type": "display_data"
    }
   ],
   "source": [
    "# Not using AI\n",
    "\n",
    "aux = x_test\n",
    "aux['exited'] = np.array(y_test)\n",
    "\n",
    "roi_random,k_list = [],np.arange(0,aux.shape[0])\n",
    "for k in k_list:\n",
    "    aux_k = aux.sample(k+1,random_state=101) # random choice\n",
    "    aux_k['possivel_perda'] = aux_k['balance']*0.01\n",
    "    aux_k['custo'] = aux_k['balance']*0.005\n",
    "    y1 = aux_k[aux_k['exited']==1]\n",
    "    y0 = aux_k[aux_k['exited']==0]\n",
    "    possivel_perda = y1['possivel_perda'].sum()\n",
    "    custo = y1['custo'].sum()+y0['custo'].sum()\n",
    "    roi_random.append(possivel_perda - custo)\n",
    "    \n",
    "print(f'Not Using Ai -> Max ROI: ${np.max(roi_random).round(3)} com o investimento em {roi_random.index(np.max(roi_random))+1} clientes')\n",
    "\n",
    "plt.figure(figsize=(16,10))\n",
    "ax = sns.lineplot(x=k_list,y=roi_random);\n",
    "ax.set_title('ROI using Random Choice x Number of Clients to Prevent from Churn',size=14)\n",
    "ax.set_ylabel('ROI',labelpad=10,size=12)\n",
    "ax.set_xlabel('K Clients from Scored Dataset',labelpad=10,size=12)\n",
    "plt.show()"
   ]
  },
  {
   "cell_type": "code",
   "execution_count": 1484,
   "id": "ceba0df6",
   "metadata": {
    "ExecuteTime": {
     "end_time": "2022-06-13T06:38:56.285619Z",
     "start_time": "2022-06-13T06:38:56.092691Z"
    },
    "hide_input": true
   },
   "outputs": [
    {
     "data": {
      "image/png": "[encoded data removed]",
      "text/plain": [
       "<Figure size 1152x720 with 1 Axes>"
      ]
     },
     "metadata": {
      "needs_background": "light"
     },
     "output_type": "display_data"
    }
   ],
   "source": [
    "plt.figure(figsize=(16,10))\n",
    "\n",
    "# Using AI\n",
    "ax = sns.lineplot(x=k_list,y=roi_ai,label='AI')\n",
    "\n",
    "# Not using AI\n",
    "ax = sns.lineplot(x=k_list,y=roi_random,label='Random')\n",
    "\n",
    "ax.set_title('ROI x Number of Clients to Prevent from Churn (Approaches Comparison)',size=14)\n",
    "ax.set_ylabel('ROI',labelpad=10,size=12)\n",
    "ax.set_xlabel('K Clients from Scored Dataset',labelpad=10,size=12)\n",
    "\n",
    "plt.legend()\n",
    "plt.show()"
   ]
  },
  {
   "cell_type": "markdown",
   "id": "4d95c33a",
   "metadata": {},
   "source": [
    "### 9.2.2 Tomada de decisão"
   ]
  },
  {
   "cell_type": "code",
   "execution_count": null,
   "id": "ad198b16",
   "metadata": {},
   "outputs": [],
   "source": [
    "# Fornecer uma faixa de valores para ter um ROI esperado se utilizar AI"
   ]
  },
  {
   "cell_type": "code",
   "execution_count": 1540,
   "id": "904a1f04",
   "metadata": {
    "ExecuteTime": {
     "end_time": "2022-06-13T06:58:33.250327Z",
     "start_time": "2022-06-13T06:58:33.086707Z"
    },
    "hide_input": true
   },
   "outputs": [
    {
     "data": {
      "image/png": "[encoded data removed]",
      "text/plain": [
       "<Figure size 1152x720 with 1 Axes>"
      ]
     },
     "metadata": {
      "needs_background": "light"
     },
     "output_type": "display_data"
    }
   ],
   "source": [
    "# Vou aproximar o gráfico na parte em que a AI é melhor que o random para escolher a faixa de valores!\n",
    "diff = []\n",
    "for c in range(len(roi_ai)):\n",
    "    diff.append(roi_ai[c]-roi_random[c])\n",
    "\n",
    "plt.figure(figsize=(16,10))\n",
    "aux = pd.DataFrame([diff,k_list]).T.rename(columns={0:'diff',1:'k'})\n",
    "aux = aux[aux['diff']>0]\n",
    "ax = sns.lineplot(y=aux['diff'],x=aux['k'])\n",
    "ax.set_title('ROI Difference between AI and Random',size=14)\n",
    "ax.set_ylabel('ROI Difference',labelpad=10,size=12)\n",
    "ax.set_xlabel('K Clients',labelpad=10,size=12)\n",
    "plt.show()"
   ]
  },
  {
   "cell_type": "markdown",
   "id": "7e3a760a",
   "metadata": {},
   "source": [
    "Vou determinar a faixa de 50 à 150 clientes como margem de segurança para obter o maior ROI."
   ]
  },
  {
   "cell_type": "code",
   "execution_count": 1543,
   "id": "6997842f",
   "metadata": {
    "ExecuteTime": {
     "end_time": "2022-06-13T07:01:19.370264Z",
     "start_time": "2022-06-13T07:01:19.355714Z"
    }
   },
   "outputs": [
    {
     "data": {
      "text/plain": [
       "mean    18810.662197\n",
       "std      1865.969449\n",
       "min     14890.564584\n",
       "25%     17380.308241\n",
       "50%     19027.328495\n",
       "75%     20184.432219\n",
       "max     22582.315643\n",
       "Name: diff, dtype: float64"
      ]
     },
     "execution_count": 1543,
     "metadata": {},
     "output_type": "execute_result"
    }
   ],
   "source": [
    "# Roi Esperado usando AI\n",
    "aux[(aux['k']>=50)&(aux['k']<=150)]['diff'].describe()[1:]"
   ]
  },
  {
   "cell_type": "markdown",
   "id": "364360cb",
   "metadata": {},
   "source": [
    "## 10.0 Model Deploy"
   ]
  },
  {
   "cell_type": "markdown",
   "id": "52e9b815",
   "metadata": {},
   "source": [
    "## 10.1 Churn Class"
   ]
  },
  {
   "cell_type": "code",
   "execution_count": 1578,
   "id": "3ccfd05f",
   "metadata": {
    "ExecuteTime": {
     "end_time": "2022-06-13T17:59:05.343393Z",
     "start_time": "2022-06-13T17:59:05.323532Z"
    }
   },
   "outputs": [],
   "source": [
    "import pandas as pd\n",
    "import pickle as pkl\n",
    "import inflection\n",
    "\n",
    "class Churn():\n",
    "    def __init__(self):\n",
    "        self.le = pkl.load(open('/Users/nando/Comunidade DS/churn/deploy/pkl/le.pkl','rb'))\n",
    "        self.te = pkl.load(open('/Users/nando/Comunidade DS/churn/deploy/pkl/te.pkl','rb'))\n",
    "        self.mms = pkl.load(open('/Users/nando/Comunidade DS/churn/deploy/pkl/mms.pkl','rb'))\n",
    "        \n",
    "    def data_cleaning(self,dados):\n",
    "\n",
    "        ## 2.1 Drop Irrelevant Features\n",
    "\n",
    "        dados.drop('RowNumber',1,inplace=True)\n",
    "\n",
    "        ## 2.2 Rename Values and Columns\n",
    "\n",
    "        # CamelCase to snake_case\n",
    "\n",
    "        # Columns\n",
    "        for column in dados.columns:\n",
    "            dados.rename(columns={column:inflection.underscore(column)},inplace=True)\n",
    "\n",
    "        # Values\n",
    "        for column in dados.select_dtypes('object').columns:\n",
    "            dados[column] = dados[column].apply(lambda x: inflection.underscore(x))\n",
    "        \n",
    "        return dados\n",
    "    \n",
    "    def feature_engineering(self,dados):\n",
    "    \n",
    "        # Surname Size\n",
    "        dados['surname_size'] = dados['surname'].apply(lambda x: len(x))\n",
    "    \n",
    "        return dados\n",
    "    \n",
    "    def data_filtering(self,dados):\n",
    "        dados.drop(['customer_id','surname'],1,inplace=True)\n",
    "        return dados\n",
    "    \n",
    "    def data_preparation(self,dados):\n",
    "\n",
    "        ## 6.2 Encoding\n",
    "        dados = self.te.transform(dados)\n",
    "        dados['gender'] = self.le.transform(dados['gender'])\n",
    "\n",
    "        ## 6.4 Rescaling\n",
    "        columns = ['credit_score', 'geography', 'gender', 'age','tenure', 'balance', 'num_of_products', 'has_cr_card','is_active_member', 'estimated_salary', 'surname_size']\n",
    "        dados = self.mms.transform(dados)\n",
    "        dados = pd.DataFrame(dados,columns=columns)\n",
    "\n",
    "        ## 6.5 Feature Selection\n",
    "        cols = ['credit_score', 'geography', 'gender', 'age', 'balance', 'num_of_products', 'is_active_member','estimated_salary']\n",
    "        dados = dados[cols]\n",
    "        \n",
    "        return dados\n",
    "    \n",
    "    def get_predictions(self,model,dados):\n",
    "        return_data = dados.copy()\n",
    "        return_data['predictions'] = model.predict(dados)\n",
    "        return_data['predictions_proba'] = model.predict_proba(dados)[:,1]\n",
    "        return_data = return_data.sort_values('predictions_proba',ascending=False)\n",
    "        return return_data.to_json()"
   ]
  },
  {
   "cell_type": "markdown",
   "id": "3890d8d4",
   "metadata": {},
   "source": [
    "## 10.2 Handler.py"
   ]
  },
  {
   "cell_type": "code",
   "execution_count": null,
   "id": "493d9697",
   "metadata": {},
   "outputs": [],
   "source": [
    "from flask import Flask,request,Response\n",
    "from churn import Churn\n",
    "import os\n",
    "import pickle as pkl\n",
    "import pandas as pd\n",
    "\n",
    "app = Flask(__name__)\n",
    "@app.route('/predict',methods=['POST'])\n",
    "\n",
    "def predict():\n",
    "    model = pkl.load(open('/Users/nando/Comunidade DS/churn/deploy/pkl/model.pkl','rb'))\n",
    "    json = request.get_json()\n",
    "    if json:\n",
    "        dados = pd.DataFrame(json)\n",
    "        dados = Churn().data_cleaning(dados)\n",
    "        dados = Churn().feature_engineering(dados)\n",
    "        dados = Churn().data_filtering(dados)\n",
    "        dados = Churn().data_preparation(dados)\n",
    "        return Churn().get_predictions(model,dados)\n",
    "    else:\n",
    "        return Response('{}',status=200)\n",
    "\n",
    "if __name__ == '__main__':\n",
    "    app.run(host='0.0.0.0',port=os.environ.get('PORT',8080),debug=False)"
   ]
  },
  {
   "cell_type": "markdown",
   "id": "b93043b9",
   "metadata": {},
   "source": [
    "## 10.3 API Request Test"
   ]
  },
  {
   "cell_type": "markdown",
   "id": "f47dd03e",
   "metadata": {},
   "source": [
    "### 10.3.1 Local Request"
   ]
  },
  {
   "cell_type": "code",
   "execution_count": 1652,
   "id": "982f85a4",
   "metadata": {
    "ExecuteTime": {
     "end_time": "2022-06-13T19:16:37.983613Z",
     "start_time": "2022-06-13T19:16:37.255193Z"
    }
   },
   "outputs": [
    {
     "name": "stdout",
     "output_type": "stream",
     "text": [
      "Response: 200\n"
     ]
    },
    {
     "data": {
      "text/html": [
       "<div>\n",
       "<style scoped>\n",
       "    .dataframe tbody tr th:only-of-type {\n",
       "        vertical-align: middle;\n",
       "    }\n",
       "\n",
       "    .dataframe tbody tr th {\n",
       "        vertical-align: top;\n",
       "    }\n",
       "\n",
       "    .dataframe thead th {\n",
       "        text-align: right;\n",
       "    }\n",
       "</style>\n",
       "<table border=\"1\" class=\"dataframe\">\n",
       "  <thead>\n",
       "    <tr style=\"text-align: right;\">\n",
       "      <th></th>\n",
       "      <th>credit_score</th>\n",
       "      <th>geography</th>\n",
       "      <th>gender</th>\n",
       "      <th>age</th>\n",
       "      <th>balance</th>\n",
       "      <th>num_of_products</th>\n",
       "      <th>is_active_member</th>\n",
       "      <th>estimated_salary</th>\n",
       "      <th>predictions</th>\n",
       "      <th>predictions_proba</th>\n",
       "    </tr>\n",
       "  </thead>\n",
       "  <tbody>\n",
       "    <tr>\n",
       "      <th>605</th>\n",
       "      <td>0.560</td>\n",
       "      <td>1.000000</td>\n",
       "      <td>0.0</td>\n",
       "      <td>0.445946</td>\n",
       "      <td>0.432244</td>\n",
       "      <td>0.666667</td>\n",
       "      <td>0.0</td>\n",
       "      <td>0.441659</td>\n",
       "      <td>1</td>\n",
       "      <td>0.994873</td>\n",
       "    </tr>\n",
       "    <tr>\n",
       "      <th>495</th>\n",
       "      <td>0.968</td>\n",
       "      <td>1.000000</td>\n",
       "      <td>0.0</td>\n",
       "      <td>0.527027</td>\n",
       "      <td>0.447519</td>\n",
       "      <td>0.666667</td>\n",
       "      <td>0.0</td>\n",
       "      <td>0.701084</td>\n",
       "      <td>1</td>\n",
       "      <td>0.994583</td>\n",
       "    </tr>\n",
       "    <tr>\n",
       "      <th>877</th>\n",
       "      <td>0.710</td>\n",
       "      <td>1.000000</td>\n",
       "      <td>0.0</td>\n",
       "      <td>0.621622</td>\n",
       "      <td>0.611680</td>\n",
       "      <td>0.666667</td>\n",
       "      <td>0.0</td>\n",
       "      <td>0.732847</td>\n",
       "      <td>1</td>\n",
       "      <td>0.992447</td>\n",
       "    </tr>\n",
       "    <tr>\n",
       "      <th>120</th>\n",
       "      <td>0.732</td>\n",
       "      <td>0.000000</td>\n",
       "      <td>0.0</td>\n",
       "      <td>0.459459</td>\n",
       "      <td>0.262942</td>\n",
       "      <td>0.333333</td>\n",
       "      <td>0.0</td>\n",
       "      <td>0.072604</td>\n",
       "      <td>1</td>\n",
       "      <td>0.987995</td>\n",
       "    </tr>\n",
       "    <tr>\n",
       "      <th>667</th>\n",
       "      <td>0.664</td>\n",
       "      <td>0.069403</td>\n",
       "      <td>0.0</td>\n",
       "      <td>0.540541</td>\n",
       "      <td>0.000000</td>\n",
       "      <td>0.000000</td>\n",
       "      <td>0.0</td>\n",
       "      <td>0.880251</td>\n",
       "      <td>1</td>\n",
       "      <td>0.984529</td>\n",
       "    </tr>\n",
       "    <tr>\n",
       "      <th>...</th>\n",
       "      <td>...</td>\n",
       "      <td>...</td>\n",
       "      <td>...</td>\n",
       "      <td>...</td>\n",
       "      <td>...</td>\n",
       "      <td>...</td>\n",
       "      <td>...</td>\n",
       "      <td>...</td>\n",
       "      <td>...</td>\n",
       "      <td>...</td>\n",
       "    </tr>\n",
       "    <tr>\n",
       "      <th>105</th>\n",
       "      <td>0.848</td>\n",
       "      <td>0.000000</td>\n",
       "      <td>1.0</td>\n",
       "      <td>0.783784</td>\n",
       "      <td>0.448433</td>\n",
       "      <td>0.000000</td>\n",
       "      <td>1.0</td>\n",
       "      <td>0.715634</td>\n",
       "      <td>0</td>\n",
       "      <td>0.007657</td>\n",
       "    </tr>\n",
       "    <tr>\n",
       "      <th>414</th>\n",
       "      <td>0.288</td>\n",
       "      <td>0.000000</td>\n",
       "      <td>1.0</td>\n",
       "      <td>0.094595</td>\n",
       "      <td>0.000000</td>\n",
       "      <td>0.333333</td>\n",
       "      <td>1.0</td>\n",
       "      <td>0.549804</td>\n",
       "      <td>0</td>\n",
       "      <td>0.007367</td>\n",
       "    </tr>\n",
       "    <tr>\n",
       "      <th>397</th>\n",
       "      <td>0.318</td>\n",
       "      <td>0.000000</td>\n",
       "      <td>1.0</td>\n",
       "      <td>0.108108</td>\n",
       "      <td>0.000000</td>\n",
       "      <td>0.333333</td>\n",
       "      <td>1.0</td>\n",
       "      <td>0.030427</td>\n",
       "      <td>0</td>\n",
       "      <td>0.007326</td>\n",
       "    </tr>\n",
       "    <tr>\n",
       "      <th>454</th>\n",
       "      <td>1.000</td>\n",
       "      <td>0.000000</td>\n",
       "      <td>0.0</td>\n",
       "      <td>0.851351</td>\n",
       "      <td>0.000000</td>\n",
       "      <td>0.333333</td>\n",
       "      <td>1.0</td>\n",
       "      <td>0.297547</td>\n",
       "      <td>0</td>\n",
       "      <td>0.003571</td>\n",
       "    </tr>\n",
       "    <tr>\n",
       "      <th>526</th>\n",
       "      <td>0.948</td>\n",
       "      <td>1.000000</td>\n",
       "      <td>1.0</td>\n",
       "      <td>0.797297</td>\n",
       "      <td>0.109675</td>\n",
       "      <td>0.333333</td>\n",
       "      <td>1.0</td>\n",
       "      <td>0.013259</td>\n",
       "      <td>0</td>\n",
       "      <td>0.002772</td>\n",
       "    </tr>\n",
       "  </tbody>\n",
       "</table>\n",
       "<p>1000 rows × 10 columns</p>\n",
       "</div>"
      ],
      "text/plain": [
       "     credit_score  geography  gender       age   balance  num_of_products  \\\n",
       "605         0.560   1.000000     0.0  0.445946  0.432244         0.666667   \n",
       "495         0.968   1.000000     0.0  0.527027  0.447519         0.666667   \n",
       "877         0.710   1.000000     0.0  0.621622  0.611680         0.666667   \n",
       "120         0.732   0.000000     0.0  0.459459  0.262942         0.333333   \n",
       "667         0.664   0.069403     0.0  0.540541  0.000000         0.000000   \n",
       "..            ...        ...     ...       ...       ...              ...   \n",
       "105         0.848   0.000000     1.0  0.783784  0.448433         0.000000   \n",
       "414         0.288   0.000000     1.0  0.094595  0.000000         0.333333   \n",
       "397         0.318   0.000000     1.0  0.108108  0.000000         0.333333   \n",
       "454         1.000   0.000000     0.0  0.851351  0.000000         0.333333   \n",
       "526         0.948   1.000000     1.0  0.797297  0.109675         0.333333   \n",
       "\n",
       "     is_active_member  estimated_salary  predictions  predictions_proba  \n",
       "605               0.0          0.441659            1           0.994873  \n",
       "495               0.0          0.701084            1           0.994583  \n",
       "877               0.0          0.732847            1           0.992447  \n",
       "120               0.0          0.072604            1           0.987995  \n",
       "667               0.0          0.880251            1           0.984529  \n",
       "..                ...               ...          ...                ...  \n",
       "105               1.0          0.715634            0           0.007657  \n",
       "414               1.0          0.549804            0           0.007367  \n",
       "397               1.0          0.030427            0           0.007326  \n",
       "454               1.0          0.297547            0           0.003571  \n",
       "526               1.0          0.013259            0           0.002772  \n",
       "\n",
       "[1000 rows x 10 columns]"
      ]
     },
     "execution_count": 1652,
     "metadata": {},
     "output_type": "execute_result"
    }
   ],
   "source": [
    "import requests\n",
    "dados = pd.read_csv('data/churn.csv')\n",
    "dados = dados.sample(1000).drop('Exited',1)\n",
    "dados = dados.to_json()\n",
    "\n",
    "json = requests.post(url='http://0.0.0.0:8080/predict',data=dados,headers={'Content-type':'application/json'})\n",
    "print('Response:',json.status_code)\n",
    "pd.DataFrame(json.json())"
   ]
  },
  {
   "cell_type": "markdown",
   "id": "e38c96b7",
   "metadata": {},
   "source": [
    "### 10.3.2 Cloud Request"
   ]
  },
  {
   "cell_type": "code",
   "execution_count": 1660,
   "id": "9a1c1b1f",
   "metadata": {
    "ExecuteTime": {
     "end_time": "2022-06-13T19:22:03.571719Z",
     "start_time": "2022-06-13T19:22:02.053513Z"
    }
   },
   "outputs": [
    {
     "name": "stdout",
     "output_type": "stream",
     "text": [
      "Response: 200\n"
     ]
    },
    {
     "data": {
      "text/html": [
       "<div>\n",
       "<style scoped>\n",
       "    .dataframe tbody tr th:only-of-type {\n",
       "        vertical-align: middle;\n",
       "    }\n",
       "\n",
       "    .dataframe tbody tr th {\n",
       "        vertical-align: top;\n",
       "    }\n",
       "\n",
       "    .dataframe thead th {\n",
       "        text-align: right;\n",
       "    }\n",
       "</style>\n",
       "<table border=\"1\" class=\"dataframe\">\n",
       "  <thead>\n",
       "    <tr style=\"text-align: right;\">\n",
       "      <th></th>\n",
       "      <th>credit_score</th>\n",
       "      <th>geography</th>\n",
       "      <th>gender</th>\n",
       "      <th>age</th>\n",
       "      <th>balance</th>\n",
       "      <th>num_of_products</th>\n",
       "      <th>is_active_member</th>\n",
       "      <th>estimated_salary</th>\n",
       "      <th>predictions</th>\n",
       "      <th>predictions_proba</th>\n",
       "    </tr>\n",
       "  </thead>\n",
       "  <tbody>\n",
       "    <tr>\n",
       "      <th>590</th>\n",
       "      <td>0.754</td>\n",
       "      <td>1.000000</td>\n",
       "      <td>1.0</td>\n",
       "      <td>0.378378</td>\n",
       "      <td>0.459342</td>\n",
       "      <td>1.000000</td>\n",
       "      <td>0.0</td>\n",
       "      <td>0.653689</td>\n",
       "      <td>1</td>\n",
       "      <td>0.994384</td>\n",
       "    </tr>\n",
       "    <tr>\n",
       "      <th>911</th>\n",
       "      <td>0.394</td>\n",
       "      <td>1.000000</td>\n",
       "      <td>1.0</td>\n",
       "      <td>0.500000</td>\n",
       "      <td>0.443857</td>\n",
       "      <td>0.666667</td>\n",
       "      <td>0.0</td>\n",
       "      <td>0.084183</td>\n",
       "      <td>1</td>\n",
       "      <td>0.994291</td>\n",
       "    </tr>\n",
       "    <tr>\n",
       "      <th>383</th>\n",
       "      <td>0.400</td>\n",
       "      <td>1.000000</td>\n",
       "      <td>1.0</td>\n",
       "      <td>0.418919</td>\n",
       "      <td>0.433670</td>\n",
       "      <td>0.666667</td>\n",
       "      <td>0.0</td>\n",
       "      <td>0.306946</td>\n",
       "      <td>1</td>\n",
       "      <td>0.992294</td>\n",
       "    </tr>\n",
       "    <tr>\n",
       "      <th>801</th>\n",
       "      <td>0.710</td>\n",
       "      <td>1.000000</td>\n",
       "      <td>0.0</td>\n",
       "      <td>0.486486</td>\n",
       "      <td>0.501755</td>\n",
       "      <td>0.666667</td>\n",
       "      <td>0.0</td>\n",
       "      <td>0.479887</td>\n",
       "      <td>1</td>\n",
       "      <td>0.990191</td>\n",
       "    </tr>\n",
       "    <tr>\n",
       "      <th>889</th>\n",
       "      <td>0.814</td>\n",
       "      <td>0.069403</td>\n",
       "      <td>0.0</td>\n",
       "      <td>0.500000</td>\n",
       "      <td>0.467497</td>\n",
       "      <td>1.000000</td>\n",
       "      <td>0.0</td>\n",
       "      <td>0.470751</td>\n",
       "      <td>1</td>\n",
       "      <td>0.988446</td>\n",
       "    </tr>\n",
       "    <tr>\n",
       "      <th>...</th>\n",
       "      <td>...</td>\n",
       "      <td>...</td>\n",
       "      <td>...</td>\n",
       "      <td>...</td>\n",
       "      <td>...</td>\n",
       "      <td>...</td>\n",
       "      <td>...</td>\n",
       "      <td>...</td>\n",
       "      <td>...</td>\n",
       "      <td>...</td>\n",
       "    </tr>\n",
       "    <tr>\n",
       "      <th>547</th>\n",
       "      <td>0.810</td>\n",
       "      <td>0.000000</td>\n",
       "      <td>0.0</td>\n",
       "      <td>0.810811</td>\n",
       "      <td>0.483092</td>\n",
       "      <td>0.000000</td>\n",
       "      <td>1.0</td>\n",
       "      <td>0.379840</td>\n",
       "      <td>0</td>\n",
       "      <td>0.009575</td>\n",
       "    </tr>\n",
       "    <tr>\n",
       "      <th>133</th>\n",
       "      <td>0.812</td>\n",
       "      <td>0.000000</td>\n",
       "      <td>1.0</td>\n",
       "      <td>0.121622</td>\n",
       "      <td>0.000000</td>\n",
       "      <td>0.333333</td>\n",
       "      <td>1.0</td>\n",
       "      <td>0.789678</td>\n",
       "      <td>0</td>\n",
       "      <td>0.008580</td>\n",
       "    </tr>\n",
       "    <tr>\n",
       "      <th>934</th>\n",
       "      <td>0.510</td>\n",
       "      <td>1.000000</td>\n",
       "      <td>1.0</td>\n",
       "      <td>0.770270</td>\n",
       "      <td>0.244401</td>\n",
       "      <td>0.000000</td>\n",
       "      <td>1.0</td>\n",
       "      <td>0.933380</td>\n",
       "      <td>0</td>\n",
       "      <td>0.007622</td>\n",
       "    </tr>\n",
       "    <tr>\n",
       "      <th>534</th>\n",
       "      <td>0.858</td>\n",
       "      <td>0.000000</td>\n",
       "      <td>1.0</td>\n",
       "      <td>0.716216</td>\n",
       "      <td>0.000000</td>\n",
       "      <td>0.333333</td>\n",
       "      <td>1.0</td>\n",
       "      <td>0.734456</td>\n",
       "      <td>0</td>\n",
       "      <td>0.006720</td>\n",
       "    </tr>\n",
       "    <tr>\n",
       "      <th>386</th>\n",
       "      <td>0.918</td>\n",
       "      <td>0.069403</td>\n",
       "      <td>1.0</td>\n",
       "      <td>0.837838</td>\n",
       "      <td>0.000000</td>\n",
       "      <td>0.333333</td>\n",
       "      <td>1.0</td>\n",
       "      <td>0.170446</td>\n",
       "      <td>0</td>\n",
       "      <td>0.005444</td>\n",
       "    </tr>\n",
       "  </tbody>\n",
       "</table>\n",
       "<p>1000 rows × 10 columns</p>\n",
       "</div>"
      ],
      "text/plain": [
       "     credit_score  geography  gender       age   balance  num_of_products  \\\n",
       "590         0.754   1.000000     1.0  0.378378  0.459342         1.000000   \n",
       "911         0.394   1.000000     1.0  0.500000  0.443857         0.666667   \n",
       "383         0.400   1.000000     1.0  0.418919  0.433670         0.666667   \n",
       "801         0.710   1.000000     0.0  0.486486  0.501755         0.666667   \n",
       "889         0.814   0.069403     0.0  0.500000  0.467497         1.000000   \n",
       "..            ...        ...     ...       ...       ...              ...   \n",
       "547         0.810   0.000000     0.0  0.810811  0.483092         0.000000   \n",
       "133         0.812   0.000000     1.0  0.121622  0.000000         0.333333   \n",
       "934         0.510   1.000000     1.0  0.770270  0.244401         0.000000   \n",
       "534         0.858   0.000000     1.0  0.716216  0.000000         0.333333   \n",
       "386         0.918   0.069403     1.0  0.837838  0.000000         0.333333   \n",
       "\n",
       "     is_active_member  estimated_salary  predictions  predictions_proba  \n",
       "590               0.0          0.653689            1           0.994384  \n",
       "911               0.0          0.084183            1           0.994291  \n",
       "383               0.0          0.306946            1           0.992294  \n",
       "801               0.0          0.479887            1           0.990191  \n",
       "889               0.0          0.470751            1           0.988446  \n",
       "..                ...               ...          ...                ...  \n",
       "547               1.0          0.379840            0           0.009575  \n",
       "133               1.0          0.789678            0           0.008580  \n",
       "934               1.0          0.933380            0           0.007622  \n",
       "534               1.0          0.734456            0           0.006720  \n",
       "386               1.0          0.170446            0           0.005444  \n",
       "\n",
       "[1000 rows x 10 columns]"
      ]
     },
     "execution_count": 1660,
     "metadata": {},
     "output_type": "execute_result"
    }
   ],
   "source": [
    "import requests\n",
    "dados = pd.read_csv('data/churn.csv')\n",
    "dados = dados.sample(1000).drop('Exited',1)\n",
    "dados = dados.to_json()\n",
    "\n",
    "json = requests.post(url='https://churn-predict-cds.herokuapp.com/predict',data=dados,headers={'Content-type':'application/json'})\n",
    "print('Response:',json.status_code)\n",
    "pd.DataFrame(json.json())"
   ]
  },
  {
   "cell_type": "code",
   "execution_count": null,
   "id": "73d5ee8d",
   "metadata": {},
   "outputs": [],
   "source": []
  }
 ],
 "metadata": {
  "kernelspec": {
   "display_name": "Python 3 (ipykernel)",
   "language": "python",
   "name": "python3"
  },
  "language_info": {
   "codemirror_mode": {
    "name": "ipython",
    "version": 3
   },
   "file_extension": ".py",
   "mimetype": "text/x-python",
   "name": "python",
   "nbconvert_exporter": "python",
   "pygments_lexer": "ipython3",
   "version": "3.9.2"
  },
  "toc": {
   "base_numbering": 1,
   "nav_menu": {},
   "number_sections": false,
   "sideBar": true,
   "skip_h1_title": false,
   "title_cell": "Table of Contents",
   "title_sidebar": "Contents",
   "toc_cell": false,
   "toc_position": {},
   "toc_section_display": true,
   "toc_window_display": false
  }
 },
 "nbformat": 4,
 "nbformat_minor": 5
}
